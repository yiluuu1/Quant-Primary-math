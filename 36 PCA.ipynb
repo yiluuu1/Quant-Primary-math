{
 "cells": [
  {
   "cell_type": "markdown",
   "metadata": {},
   "source": [
    "# 主成分分析\n",
    "\n",
    "by Rene Zhang and Max Margenot\n",
    "\n",
    "Part of the Quantopian Lecture Series:\n",
    "\n",
    "* [www.quantopian.com/lectures](https://www.quantopian.com/lectures)\n",
    "* [https://github.com/quantopian/research_public](https://github.com/quantopian/research_public)\n",
    "\n",
    "---\n",
    "\n",
    "在许多领域的应用，如图像处理、生物信息学和定量金融，涉及大规模数据。这些数据的大小和复杂性使得分析所需的计算在实际中不可行。主成分分析(PCA)是一种经典的降维方法。它使用前几个**主成分**，统计特性解释了$m \\times n$数据矩阵$\\mathbf{X}$的大部分变化，以经济的方式描述大型数据矩阵$\\mathbf{X}$。   "
   ]
  },
  {
   "cell_type": "code",
   "execution_count": 1,
   "metadata": {},
   "outputs": [],
   "source": [
    "from numpy import linalg as LA\n",
    "import numpy as np\n",
    "import pandas as pd\n",
    "import matplotlib.pyplot as plt"
   ]
  },
  {
   "cell_type": "markdown",
   "metadata": {},
   "source": [
    "我们将通过一个图像处理的例子来介绍PCA。灰度数字图像可以表示为一个矩阵，其$(i,j)$项对应于第$(i,j)$个像素处的灰度测量。下面的灰度图像是$200 \\times200$像素，不过可以动态更改。我们将它存储在一个矩阵$\\mathbf{X}$中。$\\mathbf{X}$的行数是$200$，$\\mathbf{X}$的列数是$200$。"
   ]
  },
  {
   "cell_type": "code",
   "execution_count": 2,
   "metadata": {},
   "outputs": [],
   "source": [
    "def generate_test_image(m,n):\n",
    "    X = np.zeros((m,n))\n",
    "# generate a rectangle\n",
    "    X[25:80,25:80] = 1\n",
    "# generate a triangle\n",
    "    for i in range(25, 80, 1):\n",
    "        X[i+80:160, 100+i-1] = 2\n",
    "# generate a circle\n",
    "    for i in range(0,200,1):\n",
    "        for j in range(0,200,1):\n",
    "            if (i - 135)*(i - 135) +(j - 53)*(j - 53) <= 900:\n",
    "                X[i, j] = 3\n",
    "    return X\n",
    "X = generate_test_image(200,200)"
   ]
  },
  {
   "cell_type": "markdown",
   "metadata": {},
   "source": [
    "我们从一个简单的棋盘模式开始，添加一些随机的正常噪声，并添加一个渐变。"
   ]
  },
  {
   "cell_type": "code",
   "execution_count": 3,
   "metadata": {},
   "outputs": [
    {
     "data": {
      "image/png": "[encoded data removed]",
      "text/plain": [
       "<Figure size 432x288 with 1 Axes>"
      ]
     },
     "metadata": {
      "needs_background": "light"
     },
     "output_type": "display_data"
    }
   ],
   "source": [
    "imgplot = plt.imshow(X, cmap='gray')\n",
    "plt.title('Original Test Image');"
   ]
  },
  {
   "cell_type": "code",
   "execution_count": 4,
   "metadata": {},
   "outputs": [],
   "source": [
    "m = X.shape[0] # num of rows\n",
    "n = X.shape[1] # num of columns"
   ]
  },
  {
   "cell_type": "markdown",
   "metadata": {},
   "source": [
    "将每一行设置为一个变量，在列中进行观察。将$\\mathbf{X}$的协方差矩阵表示为$\\mathbf{C}$，其中$\\mathbf{C}$的大小为$m \\times m$。$\\mathbf{C}$是一个矩阵，它的第$(i,j)$项是矩阵$\\mathbf{X}$的第$i$行和第$j$行之间的协方差。"
   ]
  },
  {
   "cell_type": "code",
   "execution_count": 5,
   "metadata": {},
   "outputs": [],
   "source": [
    "X = np.asarray(X, dtype=np.float64)\n",
    "C = np.cov(X)"
   ]
  },
  {
   "cell_type": "code",
   "execution_count": 6,
   "metadata": {},
   "outputs": [
    {
     "data": {
      "text/plain": [
       "62"
      ]
     },
     "execution_count": 6,
     "metadata": {},
     "output_type": "execute_result"
    }
   ],
   "source": [
    "np.linalg.matrix_rank(C)"
   ]
  },
  {
   "cell_type": "markdown",
   "metadata": {},
   "source": [
    "主成分分析将矩阵$\\mathbf{C}$分解为:\n",
    "\n",
    "$$\\mathbf{C} = \\mathbf{L}\\mathbf{P}\\mathbf{L}^{\\top},$$\n",
    "\n",
    "其中$\\mathbf{P}$是一个对角矩阵$\\mathbf{P}=\\text{diag}(\\lambda_1,\\lambda_2,\\dots,\\lambda_m)$，其中$\\lambda_1 \\geq \\lambda_2 \\geq \\dots \\lambda_m \\geq 0$是矩阵$\\mathbf{C}$的特征值。矩阵$\\mathbf{L}$是一个正交矩阵，由矩阵$\\mathbf{C}$的特征向量组成。"
   ]
  },
  {
   "cell_type": "code",
   "execution_count": 7,
   "metadata": {},
   "outputs": [],
   "source": [
    "P, L = LA.eigh(C)"
   ]
  },
  {
   "cell_type": "markdown",
   "metadata": {},
   "source": [
    "函数`LA.eigh`从小到大列出$P$中的特征值。让我们先将顺序从大到小进行更改，并确保$\\mathbf{L}\\mathbf{P}\\mathbf{L}^{\\top}==\\mathbf{C}$。"
   ]
  },
  {
   "cell_type": "code",
   "execution_count": 8,
   "metadata": {},
   "outputs": [],
   "source": [
    "P = P[::-1]\n",
    "L = L[:,::-1]"
   ]
  },
  {
   "cell_type": "code",
   "execution_count": 9,
   "metadata": {},
   "outputs": [
    {
     "data": {
      "text/plain": [
       "True"
      ]
     },
     "execution_count": 9,
     "metadata": {},
     "output_type": "execute_result"
    }
   ],
   "source": [
    "np.allclose(L.dot(np.diag(P)).dot(L.T), C)"
   ]
  },
  {
   "cell_type": "markdown",
   "metadata": {},
   "source": [
    "这里我们画出所有的特征值:"
   ]
  },
  {
   "cell_type": "code",
   "execution_count": 10,
   "metadata": {},
   "outputs": [
    {
     "data": {
      "image/png": "[encoded data removed]",
      "text/plain": [
       "<Figure size 432x288 with 1 Axes>"
      ]
     },
     "metadata": {
      "needs_background": "light"
     },
     "output_type": "display_data"
    }
   ],
   "source": [
    "plt.semilogy(P, '-o')\n",
    "plt.xlim([1, P.shape[0]])\n",
    "plt.xlabel('eigenvalue index')\n",
    "plt.ylabel('eigenvalue in a log scale')\n",
    "plt.title('Eigenvalues of Covariance Matrix');"
   ]
  },
  {
   "cell_type": "markdown",
   "metadata": {},
   "source": [
    "第$i$个**主成分**被表示为$\\mathbf{V}$的第$i$行，\n",
    "\n",
    " $$\\mathbf{V} =\\mathbf{L}^{\\top} \\mathbf{X}.$$\n"
   ]
  },
  {
   "cell_type": "code",
   "execution_count": 11,
   "metadata": {},
   "outputs": [],
   "source": [
    "V = L.T.dot(X)"
   ]
  },
  {
   "cell_type": "code",
   "execution_count": 12,
   "metadata": {},
   "outputs": [
    {
     "data": {
      "text/plain": [
       "(200, 200)"
      ]
     },
     "execution_count": 12,
     "metadata": {},
     "output_type": "execute_result"
    }
   ],
   "source": [
    "V.shape"
   ]
  },
  {
   "cell_type": "markdown",
   "metadata": {},
   "source": [
    "如果我们在左边两边同时乘以$\\mathbf{L}$，我们得到以下结果:\n",
    "\n",
    " $$\\mathbf{L}\\mathbf{L}^{\\top} \\mathbf{X}= \\mathbf{L}\\mathbf{V}.$$\n",
    "\n",
    "矩阵$\\mathbf{L}$是协方差矩阵的特征向量集合，因此$\\mathbf{L}\\mathbf{L}^{\\top} = \\mathbf{I}$和$\\mathbf{L}\\mathbf{L}^{\\top}\\mathbf{X} = \\mathbf{X}$。$\\mathbf{X}$、$\\mathbf{L}$和$\\mathbf{V}$之间的关系可以表示为\n",
    " \n",
    "$$\\mathbf{X} = \\mathbf{L}\\mathbf{V}.$$\n",
    "\n",
    "\n",
    "为了近似$\\mathbf{X}$，我们使用具有最大特征值的$k$个特征向量:\n",
    "\n",
    "$$\\mathbf{X} \\approx \\mathbf{L[:, 1:k]}\\mathbf{L[:, 1:k]}^{\\top} \\mathbf{X}.$$\n",
    "\n",
    "表示近似$\\mathbf{X}$为$\\tilde{\\mathbf{X}} = \\mathbf{L[:, 1:k]}\\mathbf{L[:, 1:k]}^{\\top} \\mathbf{X}$。当$k = m $时，$\\tilde{\\mathbf{X}}$应该与$\\mathbf{X}$相同。"
   ]
  },
  {
   "cell_type": "code",
   "execution_count": 13,
   "metadata": {},
   "outputs": [],
   "source": [
    "k = 200\n",
    "X_tilde =  L[:,0:k-1].dot(L[:,0:k-1].T).dot(X)"
   ]
  },
  {
   "cell_type": "code",
   "execution_count": 14,
   "metadata": {},
   "outputs": [
    {
     "data": {
      "text/plain": [
       "True"
      ]
     },
     "execution_count": 14,
     "metadata": {},
     "output_type": "execute_result"
    }
   ],
   "source": [
    "np.allclose(X_tilde, X)"
   ]
  },
  {
   "cell_type": "code",
   "execution_count": 15,
   "metadata": {
    "scrolled": false
   },
   "outputs": [
    {
     "data": {
      "image/png": "[encoded data removed]",
      "text/plain": [
       "<Figure size 432x288 with 1 Axes>"
      ]
     },
     "metadata": {
      "needs_background": "light"
     },
     "output_type": "display_data"
    }
   ],
   "source": [
    "plt.imshow(X_tilde, cmap='gray')\n",
    "plt.title('Approximated Image with full rank');"
   ]
  },
  {
   "cell_type": "markdown",
   "metadata": {},
   "source": [
    "第$i$个主成分引起的总方差的比例由$\\frac{\\lambda_i}{\\lambda_1 + \\lambda_2 + \\dots \\lambda_m}$给出。总方差的比例之和应该是$1$。正如我们定义的，$\\lambda_i$是$\\mathbf{P}$的第$i$项，\n",
    "\n",
    "$$\\sum_{i}\\frac{P_i}{\\text{trace}(P)} = 1$$\n",
    "\n",
    "其中trace$(P)$是$P$对角线的和。"
   ]
  },
  {
   "cell_type": "code",
   "execution_count": 16,
   "metadata": {},
   "outputs": [
    {
     "data": {
      "text/plain": [
       "1.0"
      ]
     },
     "execution_count": 16,
     "metadata": {},
     "output_type": "execute_result"
    }
   ],
   "source": [
    "(P/P.sum()).sum()"
   ]
  },
  {
   "cell_type": "code",
   "execution_count": 17,
   "metadata": {},
   "outputs": [
    {
     "data": {
      "image/png": "[encoded data removed]",
      "text/plain": [
       "<Figure size 432x288 with 1 Axes>"
      ]
     },
     "metadata": {
      "needs_background": "light"
     },
     "output_type": "display_data"
    }
   ],
   "source": [
    "plt.plot((P/P.sum()).cumsum(), '-o')\n",
    "plt.title('Cumulative Sum of the Proportion of Total Variance')\n",
    "plt.xlabel('index')\n",
    "plt.ylabel('Proportion');"
   ]
  },
  {
   "cell_type": "markdown",
   "metadata": {},
   "source": [
    "主成分的数量记作$k$。以$k$等于$ 10,20,30,60 $为例，并查看相应的近似图像。"
   ]
  },
  {
   "cell_type": "code",
   "execution_count": 18,
   "metadata": {},
   "outputs": [],
   "source": [
    "X_tilde_10 = L[:,0:10-1].dot(V[0:10-1,:])\n",
    "X_tilde_20 = L[:,0:20-1].dot(V[0:20-1,:])\n",
    "X_tilde_30 = L[:,0:30-1].dot(V[0:30-1,:])\n",
    "X_tilde_60 = L[:,0:60-1].dot(V[0:60-1,:])"
   ]
  },
  {
   "cell_type": "code",
   "execution_count": 19,
   "metadata": {
    "scrolled": false
   },
   "outputs": [
    {
     "data": {
      "image/png": "[encoded data removed]",
      "text/plain": [
       "<Figure size 864x864 with 4 Axes>"
      ]
     },
     "metadata": {
      "needs_background": "light"
     },
     "output_type": "display_data"
    }
   ],
   "source": [
    "fig, ((ax1, ax2), (ax3, ax4)) = plt.subplots(2, 2, figsize=(12, 12))\n",
    "ax1.imshow(X_tilde_10, cmap='gray')\n",
    "ax1.set(title='Approximated Image with k = 10')\n",
    "ax2.imshow(X_tilde_20, cmap='gray')\n",
    "ax2.set(title='Approximated Image with k = 20')\n",
    "ax3.imshow(X_tilde_30, cmap='gray')\n",
    "ax3.set(title='Approximated Image with k = 30')\n",
    "ax4.imshow(X_tilde_60, cmap='gray')\n",
    "ax4.set(title='Approximated Image with k = 60');"
   ]
  },
  {
   "cell_type": "markdown",
   "metadata": {},
   "source": [
    "$X$中的变量数是$200$。当降维为$k=60$时，使用了一半的主成分，近似后的图像与原始图像很接近。\n",
    "\n",
    "接下来，我们不需要手动执行PCA。幸运的是，[scikit-learn](http://scikit-learn.org/stable/modules/generated/sklearn.decomposition.PCA.html)有一个我们可以使用的实现。接下来，让我们展示一个使用sklearn的定量金融示例。"
   ]
  },
  {
   "cell_type": "markdown",
   "metadata": {},
   "source": [
    "## 投资组合的主成分分析"
   ]
  },
  {
   "cell_type": "markdown",
   "metadata": {},
   "source": [
    "构建一个包含10只股票的投资组合，包括IBM、MSFT、FB、T、INTC、ABX、NEM、AU、AEM、GFI。其中5家与科技相关，5家是金矿公司。\n",
    "\n",
    "在本例中，有10个变量(公司)，每一列都是一个变量。"
   ]
  },
  {
   "cell_type": "code",
   "execution_count": 20,
   "metadata": {},
   "outputs": [
    {
     "name": "stdout",
     "output_type": "stream",
     "text": [
      "[*********************100%***********************]  10 of 10 completed\n"
     ]
    }
   ],
   "source": [
    "import yfinance as yf\n",
    "symbol = ['IBM','MSFT', 'FB', 'T', 'INTC', 'GOLD','NEM', 'AU', 'AEM', 'GFI']\n",
    "\n",
    "start = \"2015-09-01\"\n",
    "end = \"2016-11-01\"\n",
    "\n",
    "portfolio_returns = yf.download(symbol, start,end,)['Close'].pct_change()[1:]"
   ]
  },
  {
   "cell_type": "code",
   "execution_count": 21,
   "metadata": {},
   "outputs": [
    {
     "name": "stdout",
     "output_type": "stream",
     "text": [
      "The number of timestamps is 295.\n",
      "The number of stocks is 10.\n",
      "79.32% of the variance is explained by the first 2 PCs\n"
     ]
    }
   ],
   "source": [
    "from sklearn.decomposition import PCA\n",
    "num_pc = 2\n",
    "\n",
    "X = np.asarray(portfolio_returns)\n",
    "[n,m] = X.shape\n",
    "print('The number of timestamps is {}.'.format(n))\n",
    "print('The number of stocks is {}.'.format(m))\n",
    "\n",
    "pca = PCA(n_components=num_pc)  # number of principal components\n",
    "pca.fit(X)\n",
    "\n",
    "percentage = pca.explained_variance_ratio_\n",
    "percentage_cum = np.cumsum(percentage)\n",
    "print('{0:.2f}% of the variance is explained by the first 2 PCs'.format(percentage_cum[-1] * 100))\n",
    "\n",
    "pca_components = pca.components_"
   ]
  },
  {
   "cell_type": "markdown",
   "metadata": {},
   "source": [
    "请注意，这些资产回报率的大部分差异可以用前两个主要部分来解释。\n",
    "\n",
    "现在我们收集前两个主成分并绘制它们的贡献。"
   ]
  },
  {
   "cell_type": "code",
   "execution_count": 22,
   "metadata": {},
   "outputs": [
    {
     "data": {
      "image/png": "[encoded data removed]",
      "text/plain": [
       "<Figure size 432x288 with 2 Axes>"
      ]
     },
     "metadata": {
      "needs_background": "light"
     },
     "output_type": "display_data"
    }
   ],
   "source": [
    "x = np.arange(1,len(percentage)+1)\n",
    "\n",
    "plt.subplot(1, 2, 1)\n",
    "plt.bar(x, percentage*100, align = \"center\")\n",
    "plt.title('Contribution of principal components',fontsize = 16)\n",
    "plt.xlabel('principal components',fontsize = 16)\n",
    "plt.ylabel('percentage',fontsize = 16)\n",
    "plt.xticks(x,fontsize = 16) \n",
    "plt.yticks(fontsize = 16)\n",
    "plt.xlim([0, num_pc+1])\n",
    "\n",
    "plt.subplot(1, 2, 2)\n",
    "plt.plot(x, percentage_cum*100,'ro-')\n",
    "plt.xlabel('principal components',fontsize = 16)\n",
    "plt.ylabel('percentage',fontsize = 16)\n",
    "plt.title('Cumulative contribution of principal components',fontsize = 16)\n",
    "plt.xticks(x,fontsize = 16) \n",
    "plt.yticks(fontsize = 16)\n",
    "plt.xlim([1, num_pc])\n",
    "plt.ylim([50,100]);"
   ]
  },
  {
   "cell_type": "markdown",
   "metadata": {},
   "source": [
    "从这些主成分我们可以构建“统计风险因素”，类似于更传统的常见风险因素。这些数据应该能让我们了解，有多少投资组合的回报来自一些不可观测的统计特征。"
   ]
  },
  {
   "cell_type": "code",
   "execution_count": 23,
   "metadata": {},
   "outputs": [
    {
     "data": {
      "text/html": [
       "<div>\n",
       "<style scoped>\n",
       "    .dataframe tbody tr th:only-of-type {\n",
       "        vertical-align: middle;\n",
       "    }\n",
       "\n",
       "    .dataframe tbody tr th {\n",
       "        vertical-align: top;\n",
       "    }\n",
       "\n",
       "    .dataframe thead th {\n",
       "        text-align: right;\n",
       "    }\n",
       "</style>\n",
       "<table border=\"1\" class=\"dataframe\">\n",
       "  <thead>\n",
       "    <tr style=\"text-align: right;\">\n",
       "      <th></th>\n",
       "      <th>factor 1</th>\n",
       "      <th>factor 2</th>\n",
       "    </tr>\n",
       "    <tr>\n",
       "      <th>Date</th>\n",
       "      <th></th>\n",
       "      <th></th>\n",
       "    </tr>\n",
       "  </thead>\n",
       "  <tbody>\n",
       "    <tr>\n",
       "      <td>2015-09-01</td>\n",
       "      <td>-0.096803</td>\n",
       "      <td>-0.019714</td>\n",
       "    </tr>\n",
       "    <tr>\n",
       "      <td>2015-09-02</td>\n",
       "      <td>-0.050461</td>\n",
       "      <td>0.046732</td>\n",
       "    </tr>\n",
       "    <tr>\n",
       "      <td>2015-09-03</td>\n",
       "      <td>-0.019119</td>\n",
       "      <td>-0.017593</td>\n",
       "    </tr>\n",
       "    <tr>\n",
       "      <td>2015-09-04</td>\n",
       "      <td>-0.014510</td>\n",
       "      <td>-0.038991</td>\n",
       "    </tr>\n",
       "    <tr>\n",
       "      <td>2015-09-08</td>\n",
       "      <td>0.018628</td>\n",
       "      <td>0.047403</td>\n",
       "    </tr>\n",
       "  </tbody>\n",
       "</table>\n",
       "</div>"
      ],
      "text/plain": [
       "            factor 1  factor 2\n",
       "Date                          \n",
       "2015-09-01 -0.096803 -0.019714\n",
       "2015-09-02 -0.050461  0.046732\n",
       "2015-09-03 -0.019119 -0.017593\n",
       "2015-09-04 -0.014510 -0.038991\n",
       "2015-09-08  0.018628  0.047403"
      ]
     },
     "execution_count": 23,
     "metadata": {},
     "output_type": "execute_result"
    }
   ],
   "source": [
    "factor_returns = X.dot(pca_components.T)\n",
    "factor_returns = pd.DataFrame(columns=[\"factor 1\", \"factor 2\"], \n",
    "                              index=portfolio_returns.index,\n",
    "                              data=factor_returns)\n",
    "factor_returns.head()"
   ]
  },
  {
   "cell_type": "markdown",
   "metadata": {},
   "source": [
    "这里的因子回报类似于图像处理示例中的主成分矩阵$\\mathbf{V}$。"
   ]
  },
  {
   "cell_type": "code",
   "execution_count": 24,
   "metadata": {},
   "outputs": [],
   "source": [
    "factor_exposures = pd.DataFrame(index=[\"factor 1\", \"factor 2\"], \n",
    "                                columns=portfolio_returns.columns,\n",
    "                                data = pca.components_).T"
   ]
  },
  {
   "cell_type": "code",
   "execution_count": 25,
   "metadata": {},
   "outputs": [
    {
     "data": {
      "text/html": [
       "<div>\n",
       "<style scoped>\n",
       "    .dataframe tbody tr th:only-of-type {\n",
       "        vertical-align: middle;\n",
       "    }\n",
       "\n",
       "    .dataframe tbody tr th {\n",
       "        vertical-align: top;\n",
       "    }\n",
       "\n",
       "    .dataframe thead th {\n",
       "        text-align: right;\n",
       "    }\n",
       "</style>\n",
       "<table border=\"1\" class=\"dataframe\">\n",
       "  <thead>\n",
       "    <tr style=\"text-align: right;\">\n",
       "      <th></th>\n",
       "      <th>factor 1</th>\n",
       "      <th>factor 2</th>\n",
       "    </tr>\n",
       "  </thead>\n",
       "  <tbody>\n",
       "    <tr>\n",
       "      <td>AEM</td>\n",
       "      <td>0.359150</td>\n",
       "      <td>0.262611</td>\n",
       "    </tr>\n",
       "    <tr>\n",
       "      <td>AU</td>\n",
       "      <td>0.487963</td>\n",
       "      <td>-0.115919</td>\n",
       "    </tr>\n",
       "    <tr>\n",
       "      <td>FB</td>\n",
       "      <td>-0.011136</td>\n",
       "      <td>0.377974</td>\n",
       "    </tr>\n",
       "    <tr>\n",
       "      <td>GFI</td>\n",
       "      <td>0.546307</td>\n",
       "      <td>-0.495838</td>\n",
       "    </tr>\n",
       "    <tr>\n",
       "      <td>GOLD</td>\n",
       "      <td>0.450804</td>\n",
       "      <td>0.229812</td>\n",
       "    </tr>\n",
       "    <tr>\n",
       "      <td>IBM</td>\n",
       "      <td>0.008130</td>\n",
       "      <td>0.320756</td>\n",
       "    </tr>\n",
       "    <tr>\n",
       "      <td>INTC</td>\n",
       "      <td>-0.003792</td>\n",
       "      <td>0.297088</td>\n",
       "    </tr>\n",
       "    <tr>\n",
       "      <td>MSFT</td>\n",
       "      <td>-0.009765</td>\n",
       "      <td>0.357062</td>\n",
       "    </tr>\n",
       "    <tr>\n",
       "      <td>NEM</td>\n",
       "      <td>0.360781</td>\n",
       "      <td>0.364166</td>\n",
       "    </tr>\n",
       "    <tr>\n",
       "      <td>T</td>\n",
       "      <td>0.027662</td>\n",
       "      <td>0.157512</td>\n",
       "    </tr>\n",
       "  </tbody>\n",
       "</table>\n",
       "</div>"
      ],
      "text/plain": [
       "      factor 1  factor 2\n",
       "AEM   0.359150  0.262611\n",
       "AU    0.487963 -0.115919\n",
       "FB   -0.011136  0.377974\n",
       "GFI   0.546307 -0.495838\n",
       "GOLD  0.450804  0.229812\n",
       "IBM   0.008130  0.320756\n",
       "INTC -0.003792  0.297088\n",
       "MSFT -0.009765  0.357062\n",
       "NEM   0.360781  0.364166\n",
       "T     0.027662  0.157512"
      ]
     },
     "execution_count": 25,
     "metadata": {},
     "output_type": "execute_result"
    }
   ],
   "source": [
    "factor_exposures"
   ]
  },
  {
   "cell_type": "markdown",
   "metadata": {},
   "source": [
    "在图像处理示例中，因子敞口与特征向量矩阵$\\mathbf{L}$类似。"
   ]
  },
  {
   "cell_type": "code",
   "execution_count": 26,
   "metadata": {},
   "outputs": [],
   "source": [
    "labels = factor_exposures.index\n",
    "data = factor_exposures.values"
   ]
  },
  {
   "cell_type": "code",
   "execution_count": 27,
   "metadata": {},
   "outputs": [
    {
     "data": {
      "image/png": "[encoded data removed]",
      "text/plain": [
       "<Figure size 432x288 with 1 Axes>"
      ]
     },
     "metadata": {
      "needs_background": "light"
     },
     "output_type": "display_data"
    }
   ],
   "source": [
    "plt.subplots_adjust(bottom = 0.1)\n",
    "plt.scatter(\n",
    "    data[:, 0], data[:, 1], marker='o', s=300, c='m',\n",
    "    cmap=plt.get_cmap('Spectral'))\n",
    "plt.title('Scatter Plot of Coefficients of PC1 and PC2')\n",
    "plt.xlabel('factor exposure of PC1')\n",
    "plt.ylabel('factor exposure of PC2')\n",
    "\n",
    "for label, x, y in zip(labels, data[:, 0], data[:, 1]):\n",
    "    plt.annotate(\n",
    "        label,\n",
    "        xy=(x, y), xytext=(-20, 20),\n",
    "        textcoords='offset points', ha='right', va='bottom',\n",
    "        bbox=dict(boxstyle='round,pad=0.5', fc='yellow', alpha=0.5),\n",
    "        arrowprops=dict(arrowstyle = '->', connectionstyle='arc3,rad=0')\n",
    "    );"
   ]
  },
  {
   "cell_type": "markdown",
   "metadata": {},
   "source": [
    "创建统计风险因素可以让我们进一步分解投资组合的收益，从而更好地了解风险。这可以作为绩效归因之后的一个额外步骤，使用更常见的风险因素，比如那些在[Quantopian Risk Model](https://www.quantopian.com/risk-model)中的风险因素，来尝试解释额外的未知风险。\n",
    "\n",
    "\n",
    "## 参考:\n",
    "- Datta, B.N., 2010. *Numerical linear algebra and applications*. Siam.\n",
    "- Qian, E.E., Hua, R.H. and Sorensen, E.H., 2007. *Quantitative equity portfolio management: modern techniques and applications*. CRC Press."
   ]
  }
 ],
 "metadata": {
  "kernelspec": {
   "display_name": "Python 3",
   "language": "python",
   "name": "python3"
  },
  "language_info": {
   "codemirror_mode": {
    "name": "ipython",
    "version": 3
   },
   "file_extension": ".py",
   "mimetype": "text/x-python",
   "name": "python",
   "nbconvert_exporter": "python",
   "pygments_lexer": "ipython3",
   "version": "3.7.4"
  }
 },
 "nbformat": 4,
 "nbformat_minor": 1
}
