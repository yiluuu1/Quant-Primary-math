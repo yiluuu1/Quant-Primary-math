{
 "cells": [
  {
   "cell_type": "markdown",
   "metadata": {},
   "source": [
    "# 线性回归\n",
    "By Evgenia \"Jenny\" Nitishinskaya and Delaney Granizo-Mackenzie with example algorithms by David Edwards\n",
    "\n",
    "Part of the Quantopian Lecture Series:\n",
    "\n",
    "* [www.quantopian.com/lectures](https://www.quantopian.com/lectures)\n",
    "* [github.com/quantopian/research_public](https://github.com/quantopian/research_public)\n",
    "\n",
    "\n",
    "---\n",
    "线性回归是一种测量两个变量之间关系的技术。如果我们有一个自变量$X$和一个因变量$Y$，线性回归允许我们决定哪个线性模型$Y = \\alpha + \\beta X$最能解释数据。作为一个例子，让我们考虑TSLA和SPY。我们想知道TSLA是如何随着SPY的变化而变化的，因此我们将计算每个TSLA的每日收益，并将它们相互回归。\n",
    "\n",
    "Python的`statsmodel`库有一个内置的线性拟合函数。注意，这将给出一条最合适的线;它所显示的关系是否重要由你来决定。输出还将包含一些关于模型的统计信息，比如R平方和F值，这可能有助于您量化实际的适合程度。"
   ]
  },
  {
   "cell_type": "code",
   "execution_count": 1,
   "metadata": {},
   "outputs": [],
   "source": [
    "# Import libraries\n",
    "import numpy as np\n",
    "from statsmodels import regression\n",
    "import statsmodels.api as sm\n",
    "import matplotlib.pyplot as plt\n",
    "import math"
   ]
  },
  {
   "cell_type": "markdown",
   "metadata": {},
   "source": [
    "首先，我们将定义一个执行线性回归并绘制结果的函数。"
   ]
  },
  {
   "cell_type": "code",
   "execution_count": 2,
   "metadata": {},
   "outputs": [],
   "source": [
    "def linreg(X,Y):\n",
    "    # Running the linear regression\n",
    "    X = sm.add_constant(X)\n",
    "    model = regression.linear_model.OLS(Y, X).fit()\n",
    "    a = model.params[0]\n",
    "    b = model.params[1]\n",
    "    X = X[:, 1]\n",
    "\n",
    "    # Return summary of the regression and plot results\n",
    "    X2 = np.linspace(X.min(), X.max(), 100)\n",
    "    Y_hat = X2 * b + a\n",
    "    plt.scatter(X, Y, alpha=0.3) # Plot the raw data\n",
    "    plt.plot(X2, Y_hat, 'r', alpha=0.9);  # Add the regression line, colored in red\n",
    "    plt.xlabel('X Value')\n",
    "    plt.ylabel('Y Value')\n",
    "    return model.summary()"
   ]
  },
  {
   "cell_type": "markdown",
   "metadata": {},
   "source": [
    "现在，我们将获得关于TSLA和SPY的价格数据并进行回归。"
   ]
  },
  {
   "cell_type": "code",
   "execution_count": 4,
   "metadata": {},
   "outputs": [
    {
     "data": {
      "text/html": [
       "<table class=\"simpletable\">\n",
       "<caption>OLS Regression Results</caption>\n",
       "<tr>\n",
       "  <th>Dep. Variable:</th>            <td>y</td>        <th>  R-squared:         </th> <td>   0.206</td>\n",
       "</tr>\n",
       "<tr>\n",
       "  <th>Model:</th>                   <td>OLS</td>       <th>  Adj. R-squared:    </th> <td>   0.202</td>\n",
       "</tr>\n",
       "<tr>\n",
       "  <th>Method:</th>             <td>Least Squares</td>  <th>  F-statistic:       </th> <td>   64.67</td>\n",
       "</tr>\n",
       "<tr>\n",
       "  <th>Date:</th>             <td>Sun, 19 Apr 2020</td> <th>  Prob (F-statistic):</th> <td>3.55e-14</td>\n",
       "</tr>\n",
       "<tr>\n",
       "  <th>Time:</th>                 <td>16:26:40</td>     <th>  Log-Likelihood:    </th> <td>  551.91</td>\n",
       "</tr>\n",
       "<tr>\n",
       "  <th>No. Observations:</th>      <td>   252</td>      <th>  AIC:               </th> <td>  -1100.</td>\n",
       "</tr>\n",
       "<tr>\n",
       "  <th>Df Residuals:</th>          <td>   250</td>      <th>  BIC:               </th> <td>  -1093.</td>\n",
       "</tr>\n",
       "<tr>\n",
       "  <th>Df Model:</th>              <td>     1</td>      <th>                     </th>     <td> </td>   \n",
       "</tr>\n",
       "<tr>\n",
       "  <th>Covariance Type:</th>      <td>nonrobust</td>    <th>                     </th>     <td> </td>   \n",
       "</tr>\n",
       "</table>\n",
       "<table class=\"simpletable\">\n",
       "<tr>\n",
       "    <td></td>       <th>coef</th>     <th>std err</th>      <th>t</th>      <th>P>|t|</th>  <th>[0.025</th>    <th>0.975]</th>  \n",
       "</tr>\n",
       "<tr>\n",
       "  <th>const</th> <td>    0.0011</td> <td>    0.002</td> <td>    0.661</td> <td> 0.509</td> <td>   -0.002</td> <td>    0.005</td>\n",
       "</tr>\n",
       "<tr>\n",
       "  <th>x1</th>    <td>    1.9411</td> <td>    0.241</td> <td>    8.042</td> <td> 0.000</td> <td>    1.466</td> <td>    2.417</td>\n",
       "</tr>\n",
       "</table>\n",
       "<table class=\"simpletable\">\n",
       "<tr>\n",
       "  <th>Omnibus:</th>       <td>64.431</td> <th>  Durbin-Watson:     </th> <td>   2.000</td>\n",
       "</tr>\n",
       "<tr>\n",
       "  <th>Prob(Omnibus):</th> <td> 0.000</td> <th>  Jarque-Bera (JB):  </th> <td> 380.322</td>\n",
       "</tr>\n",
       "<tr>\n",
       "  <th>Skew:</th>          <td> 0.848</td> <th>  Prob(JB):          </th> <td>2.59e-83</td>\n",
       "</tr>\n",
       "<tr>\n",
       "  <th>Kurtosis:</th>      <td> 8.774</td> <th>  Cond. No.          </th> <td>    141.</td>\n",
       "</tr>\n",
       "</table><br/><br/>Warnings:<br/>[1] Standard Errors assume that the covariance matrix of the errors is correctly specified."
      ],
      "text/plain": [
       "<class 'statsmodels.iolib.summary.Summary'>\n",
       "\"\"\"\n",
       "                            OLS Regression Results                            \n",
       "==============================================================================\n",
       "Dep. Variable:                      y   R-squared:                       0.206\n",
       "Model:                            OLS   Adj. R-squared:                  0.202\n",
       "Method:                 Least Squares   F-statistic:                     64.67\n",
       "Date:                Sun, 19 Apr 2020   Prob (F-statistic):           3.55e-14\n",
       "Time:                        16:26:40   Log-Likelihood:                 551.91\n",
       "No. Observations:                 252   AIC:                            -1100.\n",
       "Df Residuals:                     250   BIC:                            -1093.\n",
       "Df Model:                           1                                         \n",
       "Covariance Type:            nonrobust                                         \n",
       "==============================================================================\n",
       "                 coef    std err          t      P>|t|      [0.025      0.975]\n",
       "------------------------------------------------------------------------------\n",
       "const          0.0011      0.002      0.661      0.509      -0.002       0.005\n",
       "x1             1.9411      0.241      8.042      0.000       1.466       2.417\n",
       "==============================================================================\n",
       "Omnibus:                       64.431   Durbin-Watson:                   2.000\n",
       "Prob(Omnibus):                  0.000   Jarque-Bera (JB):              380.322\n",
       "Skew:                           0.848   Prob(JB):                     2.59e-83\n",
       "Kurtosis:                       8.774   Cond. No.                         141.\n",
       "==============================================================================\n",
       "\n",
       "Warnings:\n",
       "[1] Standard Errors assume that the covariance matrix of the errors is correctly specified.\n",
       "\"\"\""
      ]
     },
     "execution_count": 4,
     "metadata": {},
     "output_type": "execute_result"
    },
    {
     "data": {
      "image/png": "[encoded data removed]",
      "text/plain": [
       "<Figure size 432x288 with 1 Axes>"
      ]
     },
     "metadata": {
      "needs_background": "light"
     },
     "output_type": "display_data"
    }
   ],
   "source": [
    "from pandas_datareader import data\n",
    "start = '2014-01-01'\n",
    "end = '2015-01-01'\n",
    "asset = data.get_data_yahoo('TSLA',start,end)['Close']\n",
    "benchmark = data.get_data_yahoo('SPY',start,end)['Close']\n",
    "\n",
    "# We have to take the percent changes to get to returns\n",
    "# Get rid of the first (0th) element because it is NAN\n",
    "r_a = asset.pct_change()[1:]\n",
    "r_b = benchmark.pct_change()[1:]\n",
    "\n",
    "linreg(r_b.values, r_a.values)"
   ]
  },
  {
   "cell_type": "markdown",
   "metadata": {},
   "source": [
    "上图中每个点代表一天，x坐标代表SPY回报率，y坐标代表TSLA回报率。正如我们所看到的，最佳拟合线告诉我们，我们从SPY那里看到的每1%的增加回报，我们应该从TSLA中看到额外的1.92%。这由参数$\\beta$表示，其估计值为1.9271。当然，对于下降的回报，我们也会看到TSLA损失的两倍，所以我们没有得到任何东西，我们只是更加不稳定."
   ]
  },
  {
   "cell_type": "markdown",
   "metadata": {},
   "source": [
    "## 线性回归与相关\n",
    "\n",
    "* 线性回归给了我们一个特定的线性模型，但仅限于线性相关的情况。\n",
    "* 相关性一般是线性和非线性的相关性，但并没有给我们一个实际的模型。\n",
    "* 两者都是协方差的度量。\n",
    "* 线性回归通过使X多维化，可以得到Y与许多自变量之间的关系。"
   ]
  },
  {
   "cell_type": "markdown",
   "metadata": {},
   "source": [
    "## 知道参数与估计\n",
    "\n",
    "重要的是要记住，所有$\\alpha$和$\\beta$参数估计的线性回归只是估计。除非您知道产生数据的物理过程，否则您永远不可能知道底层的真实参数。您今天估计的参数可能与包括明天的数据在内的相同分析不同，而且潜在的真实参数可能正在移动。因此，在进行实际分析时，注意参数估计的标准误差是非常重要的。更多关于标准误差的资料将在以后的课程中介绍。了解参数估计值的稳定性的一种方法是使用一个滚动的数据窗口来估计参数估计值，并查看估计值中有多少方差。\n"
   ]
  },
  {
   "cell_type": "markdown",
   "metadata": {},
   "source": [
    "## 示例案例\n",
    "现在我们来看看如果我们把两个完全随机的变量回归会发生什么。"
   ]
  },
  {
   "cell_type": "code",
   "execution_count": 5,
   "metadata": {},
   "outputs": [
    {
     "data": {
      "text/html": [
       "<table class=\"simpletable\">\n",
       "<caption>OLS Regression Results</caption>\n",
       "<tr>\n",
       "  <th>Dep. Variable:</th>            <td>y</td>        <th>  R-squared:         </th> <td>   0.002</td>\n",
       "</tr>\n",
       "<tr>\n",
       "  <th>Model:</th>                   <td>OLS</td>       <th>  Adj. R-squared:    </th> <td>  -0.008</td>\n",
       "</tr>\n",
       "<tr>\n",
       "  <th>Method:</th>             <td>Least Squares</td>  <th>  F-statistic:       </th> <td>  0.2436</td>\n",
       "</tr>\n",
       "<tr>\n",
       "  <th>Date:</th>             <td>Sun, 19 Apr 2020</td> <th>  Prob (F-statistic):</th>  <td> 0.623</td> \n",
       "</tr>\n",
       "<tr>\n",
       "  <th>Time:</th>                 <td>16:33:17</td>     <th>  Log-Likelihood:    </th> <td> -15.321</td>\n",
       "</tr>\n",
       "<tr>\n",
       "  <th>No. Observations:</th>      <td>   100</td>      <th>  AIC:               </th> <td>   34.64</td>\n",
       "</tr>\n",
       "<tr>\n",
       "  <th>Df Residuals:</th>          <td>    98</td>      <th>  BIC:               </th> <td>   39.85</td>\n",
       "</tr>\n",
       "<tr>\n",
       "  <th>Df Model:</th>              <td>     1</td>      <th>                     </th>     <td> </td>   \n",
       "</tr>\n",
       "<tr>\n",
       "  <th>Covariance Type:</th>      <td>nonrobust</td>    <th>                     </th>     <td> </td>   \n",
       "</tr>\n",
       "</table>\n",
       "<table class=\"simpletable\">\n",
       "<tr>\n",
       "    <td></td>       <th>coef</th>     <th>std err</th>      <th>t</th>      <th>P>|t|</th>  <th>[0.025</th>    <th>0.975]</th>  \n",
       "</tr>\n",
       "<tr>\n",
       "  <th>const</th> <td>    0.5360</td> <td>    0.052</td> <td>   10.239</td> <td> 0.000</td> <td>    0.432</td> <td>    0.640</td>\n",
       "</tr>\n",
       "<tr>\n",
       "  <th>x1</th>    <td>    0.0458</td> <td>    0.093</td> <td>    0.494</td> <td> 0.623</td> <td>   -0.138</td> <td>    0.230</td>\n",
       "</tr>\n",
       "</table>\n",
       "<table class=\"simpletable\">\n",
       "<tr>\n",
       "  <th>Omnibus:</th>       <td>23.741</td> <th>  Durbin-Watson:     </th> <td>   2.063</td>\n",
       "</tr>\n",
       "<tr>\n",
       "  <th>Prob(Omnibus):</th> <td> 0.000</td> <th>  Jarque-Bera (JB):  </th> <td>   8.058</td>\n",
       "</tr>\n",
       "<tr>\n",
       "  <th>Skew:</th>          <td>-0.432</td> <th>  Prob(JB):          </th> <td>  0.0178</td>\n",
       "</tr>\n",
       "<tr>\n",
       "  <th>Kurtosis:</th>      <td> 1.911</td> <th>  Cond. No.          </th> <td>    4.05</td>\n",
       "</tr>\n",
       "</table><br/><br/>Warnings:<br/>[1] Standard Errors assume that the covariance matrix of the errors is correctly specified."
      ],
      "text/plain": [
       "<class 'statsmodels.iolib.summary.Summary'>\n",
       "\"\"\"\n",
       "                            OLS Regression Results                            \n",
       "==============================================================================\n",
       "Dep. Variable:                      y   R-squared:                       0.002\n",
       "Model:                            OLS   Adj. R-squared:                 -0.008\n",
       "Method:                 Least Squares   F-statistic:                    0.2436\n",
       "Date:                Sun, 19 Apr 2020   Prob (F-statistic):              0.623\n",
       "Time:                        16:33:17   Log-Likelihood:                -15.321\n",
       "No. Observations:                 100   AIC:                             34.64\n",
       "Df Residuals:                      98   BIC:                             39.85\n",
       "Df Model:                           1                                         \n",
       "Covariance Type:            nonrobust                                         \n",
       "==============================================================================\n",
       "                 coef    std err          t      P>|t|      [0.025      0.975]\n",
       "------------------------------------------------------------------------------\n",
       "const          0.5360      0.052     10.239      0.000       0.432       0.640\n",
       "x1             0.0458      0.093      0.494      0.623      -0.138       0.230\n",
       "==============================================================================\n",
       "Omnibus:                       23.741   Durbin-Watson:                   2.063\n",
       "Prob(Omnibus):                  0.000   Jarque-Bera (JB):                8.058\n",
       "Skew:                          -0.432   Prob(JB):                       0.0178\n",
       "Kurtosis:                       1.911   Cond. No.                         4.05\n",
       "==============================================================================\n",
       "\n",
       "Warnings:\n",
       "[1] Standard Errors assume that the covariance matrix of the errors is correctly specified.\n",
       "\"\"\""
      ]
     },
     "execution_count": 5,
     "metadata": {},
     "output_type": "execute_result"
    },
    {
     "data": {
      "image/png": "[encoded data removed]",
      "text/plain": [
       "<Figure size 432x288 with 1 Axes>"
      ]
     },
     "metadata": {
      "needs_background": "light"
     },
     "output_type": "display_data"
    }
   ],
   "source": [
    "X = np.random.rand(100)\n",
    "Y = np.random.rand(100)\n",
    "linreg(X, Y)"
   ]
  },
  {
   "cell_type": "markdown",
   "metadata": {},
   "source": [
    "上面显示了一个相当均匀的点云。值得注意的是，即使有100个样本，这条线也有一个明显的斜率，这是随机的。这就是为什么使用统计测试而不是可视化来验证结果是至关重要的。"
   ]
  },
  {
   "cell_type": "markdown",
   "metadata": {},
   "source": [
    "现在让Y依赖于X加上一些随机噪声。"
   ]
  },
  {
   "cell_type": "code",
   "execution_count": 6,
   "metadata": {
    "scrolled": false
   },
   "outputs": [
    {
     "data": {
      "text/html": [
       "<table class=\"simpletable\">\n",
       "<caption>OLS Regression Results</caption>\n",
       "<tr>\n",
       "  <th>Dep. Variable:</th>            <td>y</td>        <th>  R-squared:         </th> <td>   0.718</td>\n",
       "</tr>\n",
       "<tr>\n",
       "  <th>Model:</th>                   <td>OLS</td>       <th>  Adj. R-squared:    </th> <td>   0.716</td>\n",
       "</tr>\n",
       "<tr>\n",
       "  <th>Method:</th>             <td>Least Squares</td>  <th>  F-statistic:       </th> <td>   250.1</td>\n",
       "</tr>\n",
       "<tr>\n",
       "  <th>Date:</th>             <td>Sun, 19 Apr 2020</td> <th>  Prob (F-statistic):</th> <td>1.01e-28</td>\n",
       "</tr>\n",
       "<tr>\n",
       "  <th>Time:</th>                 <td>16:33:53</td>     <th>  Log-Likelihood:    </th> <td>  19.849</td>\n",
       "</tr>\n",
       "<tr>\n",
       "  <th>No. Observations:</th>      <td>   100</td>      <th>  AIC:               </th> <td>  -35.70</td>\n",
       "</tr>\n",
       "<tr>\n",
       "  <th>Df Residuals:</th>          <td>    98</td>      <th>  BIC:               </th> <td>  -30.49</td>\n",
       "</tr>\n",
       "<tr>\n",
       "  <th>Df Model:</th>              <td>     1</td>      <th>                     </th>     <td> </td>   \n",
       "</tr>\n",
       "<tr>\n",
       "  <th>Covariance Type:</th>      <td>nonrobust</td>    <th>                     </th>     <td> </td>   \n",
       "</tr>\n",
       "</table>\n",
       "<table class=\"simpletable\">\n",
       "<tr>\n",
       "    <td></td>       <th>coef</th>     <th>std err</th>      <th>t</th>      <th>P>|t|</th>  <th>[0.025</th>    <th>0.975]</th>  \n",
       "</tr>\n",
       "<tr>\n",
       "  <th>const</th> <td>   -0.0651</td> <td>    0.037</td> <td>   -1.769</td> <td> 0.080</td> <td>   -0.138</td> <td>    0.008</td>\n",
       "</tr>\n",
       "<tr>\n",
       "  <th>x1</th>    <td>    1.0333</td> <td>    0.065</td> <td>   15.814</td> <td> 0.000</td> <td>    0.904</td> <td>    1.163</td>\n",
       "</tr>\n",
       "</table>\n",
       "<table class=\"simpletable\">\n",
       "<tr>\n",
       "  <th>Omnibus:</th>       <td> 0.688</td> <th>  Durbin-Watson:     </th> <td>   2.027</td>\n",
       "</tr>\n",
       "<tr>\n",
       "  <th>Prob(Omnibus):</th> <td> 0.709</td> <th>  Jarque-Bera (JB):  </th> <td>   0.414</td>\n",
       "</tr>\n",
       "<tr>\n",
       "  <th>Skew:</th>          <td>-0.151</td> <th>  Prob(JB):          </th> <td>   0.813</td>\n",
       "</tr>\n",
       "<tr>\n",
       "  <th>Kurtosis:</th>      <td> 3.089</td> <th>  Cond. No.          </th> <td>    4.05</td>\n",
       "</tr>\n",
       "</table><br/><br/>Warnings:<br/>[1] Standard Errors assume that the covariance matrix of the errors is correctly specified."
      ],
      "text/plain": [
       "<class 'statsmodels.iolib.summary.Summary'>\n",
       "\"\"\"\n",
       "                            OLS Regression Results                            \n",
       "==============================================================================\n",
       "Dep. Variable:                      y   R-squared:                       0.718\n",
       "Model:                            OLS   Adj. R-squared:                  0.716\n",
       "Method:                 Least Squares   F-statistic:                     250.1\n",
       "Date:                Sun, 19 Apr 2020   Prob (F-statistic):           1.01e-28\n",
       "Time:                        16:33:53   Log-Likelihood:                 19.849\n",
       "No. Observations:                 100   AIC:                            -35.70\n",
       "Df Residuals:                      98   BIC:                            -30.49\n",
       "Df Model:                           1                                         \n",
       "Covariance Type:            nonrobust                                         \n",
       "==============================================================================\n",
       "                 coef    std err          t      P>|t|      [0.025      0.975]\n",
       "------------------------------------------------------------------------------\n",
       "const         -0.0651      0.037     -1.769      0.080      -0.138       0.008\n",
       "x1             1.0333      0.065     15.814      0.000       0.904       1.163\n",
       "==============================================================================\n",
       "Omnibus:                        0.688   Durbin-Watson:                   2.027\n",
       "Prob(Omnibus):                  0.709   Jarque-Bera (JB):                0.414\n",
       "Skew:                          -0.151   Prob(JB):                        0.813\n",
       "Kurtosis:                       3.089   Cond. No.                         4.05\n",
       "==============================================================================\n",
       "\n",
       "Warnings:\n",
       "[1] Standard Errors assume that the covariance matrix of the errors is correctly specified.\n",
       "\"\"\""
      ]
     },
     "execution_count": 6,
     "metadata": {},
     "output_type": "execute_result"
    },
    {
     "data": {
      "image/png": "[encoded data removed]",
      "text/plain": [
       "<Figure size 432x288 with 1 Axes>"
      ]
     },
     "metadata": {
      "needs_background": "light"
     },
     "output_type": "display_data"
    }
   ],
   "source": [
    "# Generate ys correlated with xs by adding normally-destributed errors\n",
    "Y = X + 0.2*np.random.randn(100)\n",
    "\n",
    "linreg(X,Y)"
   ]
  },
  {
   "cell_type": "markdown",
   "metadata": {},
   "source": [
    "在上述情况下，最佳拟合线确实很好地模拟了因变量Y(具有较高的$R^2$值)。"
   ]
  },
  {
   "cell_type": "markdown",
   "metadata": {},
   "source": [
    "# 评估和报告结果\n",
    "\n",
    "回归模型基于以下几个假设:\n",
    "* 自变量不是随机的。\n",
    "* 误差项的方差在各观测值之间是恒定的。这对于评价拟合优度很重要。\n",
    "* 误差不是自相关的。杜宾-沃森统计发现了这一点;如果它接近于2，就不存在自相关。\n",
    "* 误差是正态分布的。如果这不能成立，我们就不能使用一些统计数据，比如f检验。\n",
    "\n",
    "如果我们确认回归模型的必要假设是满足的，我们就可以安全地使用报告的统计数据来分析拟合。例如，$R^2$值告诉我们由模型解释的$Y$总变化的百分比。\n",
    "\n",
    "在基于模型进行预测时，不仅报告单个值，而且报告置信区间是很有用的。线性回归报告了回归参数的95%置信区间，我们可以使用`seaborn`库来可视化这意味着什么，它绘制了回归线并突出了回归线的95%(默认情况下)置信区间:"
   ]
  },
  {
   "cell_type": "code",
   "execution_count": 7,
   "metadata": {},
   "outputs": [
    {
     "data": {
      "image/png": "[encoded data removed]",
      "text/plain": [
       "<Figure size 432x288 with 1 Axes>"
      ]
     },
     "metadata": {
      "needs_background": "light"
     },
     "output_type": "display_data"
    }
   ],
   "source": [
    "import seaborn\n",
    "\n",
    "start = '2014-01-01'\n",
    "end = '2015-01-01'\n",
    "asset = data.get_data_yahoo('TSLA',start,end)['Close']\n",
    "benchmark = data.get_data_yahoo('SPY',start,end)['Close']\n",
    "\n",
    "# We have to take the percent changes to get to returns\n",
    "# Get rid of the first (0th) element because it is NAN\n",
    "r_a = asset.pct_change()[1:]\n",
    "r_b = benchmark.pct_change()[1:]\n",
    "\n",
    "seaborn.regplot(r_b.values, r_a.values);"
   ]
  },
  {
   "cell_type": "markdown",
   "metadata": {},
   "source": [
    "## 数学背景\n",
    "\n",
    "这是线性回归的一个非常简短的概述。有关详情，请参阅:\n",
    "https://en.wikipedia.org/wiki/Linear_regression"
   ]
  },
  {
   "cell_type": "markdown",
   "metadata": {},
   "source": [
    "## 普通最小二乘法\n",
    "\n",
    "回归是通过优化最佳拟合线(或高维平面)的位置来实现的。它通过使用一个目标函数来定义契合度有多差来做到这一点。在普通最小二乘回归(OLS)中，我们这里使用的目标函数是:\n",
    "\n",
    "$$\\sum_{i=1}^n (Y_i - a - bX_i)^2$$\n",
    "\n",
    "我们使用$a$和$b$来表示$\\alpha$和$\\beta$的潜在候选项。这个目标函数的意思是，对于最佳拟合直线上的每个点，我们将其与实点进行比较，然后取其差的平方。当我们得到更好的参数估计时，这个函数会减小。回归是一个简单的数值优化案例，它有一个封闭的形式的解决方案，不需要任何优化器。我们只要找到最小化目标函数的结果。\n",
    "\n",
    "我们将最小化目标函数得到的最终模型表示为:\n",
    "\n",
    "$$ \\hat{Y} = \\hat{\\alpha} + \\hat{\\beta}X $$\n",
    "\n",
    "$\\hat{\\alpha}$和$\\hat{\\beta}$是我们用于预测的参数的选定估计值，$\\hat{Y}$是给定估计值的$Y$的预测值."
   ]
  },
  {
   "cell_type": "markdown",
   "metadata": {},
   "source": [
    "## 标准误差\n",
    "\n",
    "我们还可以通过得到回归返回的模型的`scale`参数并取其平方根，得到标准误差的估计，即测量误差项$\\epsilon$的标准差。标准估计误差的计算公式为\n",
    "$$ s = \\left( \\frac{\\sum_{i=1}^n \\epsilon_i^2}{n-2} \\right)^{1/2} $$\n",
    "\n",
    "如果$\\hat{\\alpha}$和$\\hat{\\beta}$是真正的参数($\\hat{\\alpha} = \\alpha$和$\\hat{\\beta} = \\beta$)，对于所有$X_i$的值，我们可以将$Y$的特定预测值的误差表示为$s^2$。我们可以简单地对差值$(Y - \\hat{Y})$进行平方来得到方差，因为$\\hat{Y}$在参数估计本身没有包含任何误差。因为$\\hat{\\alpha}$和$\\hat{\\beta}$只是在我们构建$Y$模型时的估计值，任何预测值，$\\hat{Y}$，都将根据我们插入模型的$X$项的分布，产生它们自己的标准误差。这一预测误差表示如下:\n",
    "\n",
    "$$ s_f^2 = s^2 \\left( 1 + \\frac{1}{n} + \\frac{(X - \\mu_X)^2}{(n-1)\\sigma_X^2} \\right) $$\n",
    "\n",
    "其中$\\mu_X$是观测值$X$的平均值，$\\sigma_X$是$X$的标准差。调整后的$s^2$包含了我们参数估计中的不确定性。然后预测的95%置信区间是$\\hat{Y} \\pm t_cs_f$，其中$t_c$是$n$样本的t统计量的临界值和期望的95%置信值。"
   ]
  }
 ],
 "metadata": {
  "kernelspec": {
   "display_name": "Python 3",
   "language": "python",
   "name": "python3"
  },
  "language_info": {
   "codemirror_mode": {
    "name": "ipython",
    "version": 3
   },
   "file_extension": ".py",
   "mimetype": "text/x-python",
   "name": "python",
   "nbconvert_exporter": "python",
   "pygments_lexer": "ipython3",
   "version": "3.7.4"
  }
 },
 "nbformat": 4,
 "nbformat_minor": 1
}
