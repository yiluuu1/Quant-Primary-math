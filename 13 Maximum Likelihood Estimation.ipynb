{
 "cells": [
  {
   "cell_type": "markdown",
   "metadata": {},
   "source": [
    "# 最大似然估计(MLEs)\n",
    "\n",
    "By Delaney Granizo-Mackenzie and Andrei Kirilenko developed as part of the Masters of Finance curriculum at MIT Sloan.\n",
    "\n",
    "Part of the Quantopian Lecture Series:\n",
    "\n",
    "* [www.quantopian.com/lectures](https://www.quantopian.com/lectures)\n",
    "* [github.com/quantopian/research_public](https://github.com/quantopian/research_public)\n",
    "\n",
    "Notebook released under the Creative Commons Attribution 4.0 License.\n",
    "\n",
    "---"
   ]
  },
  {
   "cell_type": "markdown",
   "metadata": {},
   "source": [
    "在本教程中，我们将做以下事情:\n",
    "1. 计算正态分布的MLE。\n",
    "2. 计算指数分布的MLE。\n",
    "3. 使用MLE对资产收益进行正态分布拟合。"
   ]
  },
  {
   "cell_type": "markdown",
   "metadata": {},
   "source": [
    "首先，我们需要导入一些库"
   ]
  },
  {
   "cell_type": "code",
   "execution_count": 1,
   "metadata": {},
   "outputs": [],
   "source": [
    "import math\n",
    "import matplotlib.pyplot as plt\n",
    "import numpy as np\n",
    "import scipy\n",
    "import scipy.stats"
   ]
  },
  {
   "cell_type": "markdown",
   "metadata": {},
   "source": [
    "## 正态分布\n",
    "我们先从正态分布中抽取一些数据。"
   ]
  },
  {
   "cell_type": "code",
   "execution_count": 2,
   "metadata": {},
   "outputs": [],
   "source": [
    "TRUE_MEAN = 40\n",
    "TRUE_STD = 10\n",
    "X = np.random.normal(TRUE_MEAN, TRUE_STD, 1000)"
   ]
  },
  {
   "cell_type": "markdown",
   "metadata": {},
   "source": [
    "现在，我们将定义函数，根据我们的数据，计算正态分布的$\\mu$和$\\sigma$参数的MLE。\n",
    "\n",
    "回想一下,\n",
    "\n",
    "$$\\hat\\mu = \\frac{1}{T}\\sum_{t=1}^{T} x_t$$\n",
    "\n",
    "$$\\hat\\sigma = \\sqrt{\\frac{1}{T}\\sum_{t=1}^{T}{(x_t - \\hat\\mu)^2}}$$"
   ]
  },
  {
   "cell_type": "code",
   "execution_count": 3,
   "metadata": {},
   "outputs": [],
   "source": [
    "def normal_mu_MLE(X):\n",
    "    # Get the number of observations\n",
    "    T = len(X)\n",
    "    # Sum the observations\n",
    "    s = sum(X)\n",
    "    return 1.0/T * s\n",
    "\n",
    "def normal_sigma_MLE(X):\n",
    "    T = len(X)\n",
    "    # Get the mu MLE\n",
    "    mu = normal_mu_MLE(X)\n",
    "    # Sum the square of the differences\n",
    "    s = sum( np.power((X - mu), 2) )\n",
    "    # Compute sigma^2\n",
    "    sigma_squared = 1.0/T * s\n",
    "    return math.sqrt(sigma_squared)"
   ]
  },
  {
   "cell_type": "markdown",
   "metadata": {},
   "source": [
    "现在，让我们在样本数据上尝试我们的函数，看看它们与内置的`np.mean`和`np.std`有什么不同"
   ]
  },
  {
   "cell_type": "code",
   "execution_count": 4,
   "metadata": {},
   "outputs": [
    {
     "name": "stdout",
     "output_type": "stream",
     "text": [
      "Mean Estimation\n",
      "40.03582632051579\n",
      "40.03582632051582\n",
      "Standard Deviation Estimation\n",
      "9.701136664153747\n",
      "9.701136664153745\n"
     ]
    }
   ],
   "source": [
    "print(\"Mean Estimation\") \n",
    "print (normal_mu_MLE(X))\n",
    "print (np.mean(X))\n",
    "print(\"Standard Deviation Estimation\") \n",
    "print(normal_sigma_MLE(X)) \n",
    "print(np.std(X)) "
   ]
  },
  {
   "cell_type": "markdown",
   "metadata": {},
   "source": [
    "现在，让我们使用内置的`fit()`函数一次性估计这两个参数。"
   ]
  },
  {
   "cell_type": "code",
   "execution_count": 8,
   "metadata": {},
   "outputs": [
    {
     "name": "stdout",
     "output_type": "stream",
     "text": [
      "mu estimate:  40.03582632051582\n",
      "std estimate:  9.701136664153745\n"
     ]
    }
   ],
   "source": [
    "mu, std = scipy.stats.norm.fit(X)\n",
    "print(\"mu estimate: \" ,mu)\n",
    "print(\"std estimate: \" ,std)"
   ]
  },
  {
   "cell_type": "markdown",
   "metadata": {},
   "source": [
    "现在，让我们将分布PDF与数据一起绘制，以查看它是否适合。我们可以通过访问`scipy.stats.normal.pdf`中提供的pdf来实现这一点。"
   ]
  },
  {
   "cell_type": "code",
   "execution_count": 7,
   "metadata": {},
   "outputs": [
    {
     "data": {
      "image/png": "[encoded data removed]",
      "text/plain": [
       "<Figure size 432x288 with 1 Axes>"
      ]
     },
     "metadata": {
      "needs_background": "light"
     },
     "output_type": "display_data"
    }
   ],
   "source": [
    "# We would like to plot our data along an x-axis ranging from 0-80 with 80 intervals\n",
    "# (increments of 1)\n",
    "x = np.linspace(0, 80, 80)\n",
    "plt.hist(X, bins=x, density='true')\n",
    "plt.plot(scipy.stats.norm.pdf(x, loc=mu, scale=std))\n",
    "plt.xlabel('Value')\n",
    "plt.ylabel('Observed Frequency')\n",
    "plt.legend(['Fitted Distribution PDF', 'Observed Data' ]);"
   ]
  },
  {
   "cell_type": "markdown",
   "metadata": {},
   "source": [
    "## 指数分布\n",
    "我们对指数分布做同样的事情。我们先抽样一些数据。"
   ]
  },
  {
   "cell_type": "code",
   "execution_count": 9,
   "metadata": {},
   "outputs": [],
   "source": [
    "TRUE_LAMBDA = 5\n",
    "X = np.random.exponential(TRUE_LAMBDA, 1000)"
   ]
  },
  {
   "cell_type": "markdown",
   "metadata": {},
   "source": [
    "`numpy`将指数分布定义为\n",
    "$$\\frac{1}{\\lambda}e^{-\\frac{x}{\\lambda}}$$\n",
    "\n",
    "所以我们需要把课堂笔记中的MLE倒过来。在这里\n",
    "\n",
    "$$\\hat\\lambda = \\frac{T}{\\sum_{t=1}^{T} x_t}$$\n",
    "\n",
    "这是它的倒数\n",
    "\n",
    "$$\\hat\\lambda = \\frac{\\sum_{t=1}^{T} x_t}{T}$$"
   ]
  },
  {
   "cell_type": "code",
   "execution_count": 10,
   "metadata": {},
   "outputs": [],
   "source": [
    "def exp_lamda_MLE(X):\n",
    "    T = len(X)\n",
    "    s = sum(X)\n",
    "    return s/T"
   ]
  },
  {
   "cell_type": "code",
   "execution_count": 11,
   "metadata": {},
   "outputs": [
    {
     "name": "stdout",
     "output_type": "stream",
     "text": [
      "lambda estimate:  5.151819583062726\n"
     ]
    }
   ],
   "source": [
    "print(\"lambda estimate: \" ,exp_lamda_MLE(X)) "
   ]
  },
  {
   "cell_type": "code",
   "execution_count": 12,
   "metadata": {},
   "outputs": [],
   "source": [
    "# The scipy version of the exponential distribution has a location parameter\n",
    "# that can skew the distribution. We ignore this by fixing the location\n",
    "# parameter to 0 with floc=0\n",
    "_, l = scipy.stats.expon.fit(X, floc=0)"
   ]
  },
  {
   "cell_type": "code",
   "execution_count": 14,
   "metadata": {},
   "outputs": [
    {
     "data": {
      "image/png": "[encoded data removed]",
      "text/plain": [
       "<Figure size 432x288 with 1 Axes>"
      ]
     },
     "metadata": {
      "needs_background": "light"
     },
     "output_type": "display_data"
    }
   ],
   "source": [
    "x = range(0, 80)\n",
    "plt.hist(X, bins=x, density='true')\n",
    "plt.plot(scipy.stats.expon.pdf(x, loc=0,scale=l))\n",
    "plt.xlabel('Value')\n",
    "plt.ylabel('Observed Frequency')\n",
    "plt.legend(['Fitted Distribution PDF', 'Observed Data', ]);"
   ]
  },
  {
   "cell_type": "markdown",
   "metadata": {},
   "source": [
    "## MLE表示资产回报\n",
    "\n",
    "现在，我们将获取一些实际的回报，并尝试使用MLE来拟合正态分布。"
   ]
  },
  {
   "cell_type": "code",
   "execution_count": 16,
   "metadata": {},
   "outputs": [],
   "source": [
    "from pandas_datareader import data\n",
    "prices = data.get_data_yahoo('TSLA', start='2014-01-01', end='2015-01-01')['Close']\n",
    "# This will give us the number of dollars returned each day\n",
    "absolute_returns = np.diff(prices)\n",
    "# This will give us the percentage return over the last day's value\n",
    "# the [:-1] notation gives us all but the last item in the array\n",
    "# We do this because there are no returns on the final price in the array.\n",
    "returns = absolute_returns/prices[:-1]"
   ]
  },
  {
   "cell_type": "markdown",
   "metadata": {},
   "source": [
    "让我们使用`scipy`的fit函数来获得$\\mu$和$\\sigma$ 的MLEs。"
   ]
  },
  {
   "cell_type": "code",
   "execution_count": 17,
   "metadata": {},
   "outputs": [
    {
     "data": {
      "image/png": "[encoded data removed]",
      "text/plain": [
       "<Figure size 432x288 with 1 Axes>"
      ]
     },
     "metadata": {
      "needs_background": "light"
     },
     "output_type": "display_data"
    }
   ],
   "source": [
    "mu, std = scipy.stats.norm.fit(returns)\n",
    "x = np.linspace(-1,1, num=100)\n",
    "h = plt.hist(returns, bins=x, density='true')\n",
    "l = plt.plot(x, scipy.stats.norm.pdf(x, loc=mu, scale=std))"
   ]
  },
  {
   "cell_type": "markdown",
   "metadata": {},
   "source": [
    "当然，除非我们首先检验过它们是否服从正态分布，否则这种契合是没有意义的。我们可以用Jarque-Bera正态性检验来验证。如果p值低于c, Jarque-Bera检验将拒绝正态分布的假设。"
   ]
  },
  {
   "cell_type": "code",
   "execution_count": 18,
   "metadata": {},
   "outputs": [
    {
     "data": {
      "text/plain": [
       "(253.65129069336803,\n",
       " 8.323808154414191e-56,\n",
       " 0.7543640587034445,\n",
       " 7.677713677435444)"
      ]
     },
     "execution_count": 18,
     "metadata": {},
     "output_type": "execute_result"
    }
   ],
   "source": [
    "from statsmodels.stats.stattools import jarque_bera\n",
    "jarque_bera(returns)"
   ]
  },
  {
   "cell_type": "code",
   "execution_count": 19,
   "metadata": {},
   "outputs": [
    {
     "data": {
      "text/plain": [
       "(0.051331282461143546,\n",
       " 0.9746609215596712,\n",
       " -0.016049451148402796,\n",
       " 2.8937495022975677)"
      ]
     },
     "execution_count": 19,
     "metadata": {},
     "output_type": "execute_result"
    }
   ],
   "source": [
    "jarque_bera(np.random.normal(0, 1, 100))"
   ]
  }
 ],
 "metadata": {
  "kernelspec": {
   "display_name": "Python 3",
   "language": "python",
   "name": "python3"
  },
  "language_info": {
   "codemirror_mode": {
    "name": "ipython",
    "version": 3
   },
   "file_extension": ".py",
   "mimetype": "text/x-python",
   "name": "python",
   "nbconvert_exporter": "python",
   "pygments_lexer": "ipython3",
   "version": "3.7.4"
  }
 },
 "nbformat": 4,
 "nbformat_minor": 1
}
