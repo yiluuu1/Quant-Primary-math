{
 "cells": [
  {
   "cell_type": "markdown",
   "metadata": {},
   "source": [
    "# 传统价值因子算法\n",
    "\n",
    "By Gil Wassermann\n",
    "\n",
    "Strategy taken from \"130/30: The New Long-Only\" by Andrew Lo and Pankaj Patel\n",
    "\n",
    "Part of the Quantopian Lecture Series:\n",
    "* www.quantopian.com/lectures\n",
    "* github.com/quantopian/research_public\n",
    "\n"
   ]
  },
  {
   "cell_type": "markdown",
   "metadata": {},
   "source": [
    "在2007年危机之前，130/30基金风靡一时。130/30基金的想法很简单:做多130%做空30%;这种组合带来了100%的净风险敞口(与只做多的基金相同)，以及做空股票的额外好处。在交易策略中做空的能力至关重要，因为它能让基金经理从一只股票的糟糕表现中获利，而这在传统的只做多策略中是不可能的。\n",
    "\n",
    "这个本子将使用Andrew Lo和Pankaj Patel在“130/30:New Long Only”中概述的因素来演示如何创建一个算法的130/30策略。它还将突出quant的管道API，这是一个开发要素交易策略的强大工具。"
   ]
  },
  {
   "cell_type": "markdown",
   "metadata": {},
   "source": [
    "首先，让我们导入此算法所需的所有库和函数"
   ]
  },
  {
   "cell_type": "code",
   "execution_count": 1,
   "metadata": {
    "collapsed": true
   },
   "outputs": [],
   "source": [
    "import numpy as np\n",
    "import pandas as pd\n",
    "import matplotlib.pyplot as plt\n",
    "from quantopian.pipeline import Pipeline\n",
    "from quantopian.pipeline.data.builtin import USEquityPricing\n",
    "from quantopian.research import run_pipeline\n",
    "from quantopian.pipeline.data import Fundamentals\n",
    "from quantopian.pipeline.factors import CustomFactor"
   ]
  },
  {
   "cell_type": "markdown",
   "metadata": {},
   "source": [
    "# 传统的价值\n",
    "\n",
    "在这个笔记本中，我们将开发一个基于Lo/Patel白皮书中描述的“传统价值”度量的策略。这种策略中使用的因素使用经典的基本面分析将股票分为便宜和昂贵两种。Lo/Patel使用的因素有:\n",
    "\n",
    "* 股息收益率\n",
    "* 价格与账面价值之比\n",
    "* 价格与过去12个月销售额之比\n",
    "* 价格与过去12个月现金流之比"
   ]
  },
  {
   "cell_type": "markdown",
   "metadata": {},
   "source": [
    "## 股息收益率\n",
    "\n",
    "股息收益率计算如下:\n",
    "\n",
    "$$Dividend\\;Yield = \\frac{Annual\\;Dividends\\;per\\;share}{Price\\;per\\;share}$$\n",
    "\n",
    "当一个公司盈利时，它面临一个选择。它可以将这些利润再投资于公司，以提高效率，购买新技术等，或者它可以向股东支付股息。尽管再投资可能会提高公司未来的股价，从而回报投资者，但股东获得回报的最具体方式是通过股息。高股息率的股票尤其具有吸引力，因为向投资者支付的股息占股价的比例更大。现在，我们将使用管道API框架和管道的基本值列表来创建股息收益率因子。"
   ]
  },
  {
   "cell_type": "code",
   "execution_count": 2,
   "metadata": {},
   "outputs": [],
   "source": [
    "# Custom Factor 1 : Dividend Yield\n",
    "class Div_Yield(CustomFactor):\n",
    "    inputs = [Fundamentals.div_yield5_year]\n",
    "    window_length = 1\n",
    "    def compute(self, today, assets, out, d_y):\n",
    "        out[:] = d_y[-1]"
   ]
  },
  {
   "cell_type": "markdown",
   "metadata": {},
   "source": [
    "虽然可以使用其他基本度量来计算这个因素，但是基本原理不需要进行任何计算。在从零开始创建自定义因素之前，最好检查一下[基本面](https://www.quantopian.com/help/fundamentals)列表。\n",
    "\n",
    "我们将初始化一个临时管道，以了解这些值。"
   ]
  },
  {
   "cell_type": "code",
   "execution_count": 3,
   "metadata": {},
   "outputs": [
    {
     "data": {
      "text/html": [
       "<div>\n",
       "<table border=\"1\" class=\"dataframe\">\n",
       "  <thead>\n",
       "    <tr style=\"text-align: right;\">\n",
       "      <th></th>\n",
       "      <th></th>\n",
       "      <th>Dividend Yield</th>\n",
       "    </tr>\n",
       "  </thead>\n",
       "  <tbody>\n",
       "    <tr>\n",
       "      <th rowspan=\"5\" valign=\"top\">2015-11-11 00:00:00+00:00</th>\n",
       "      <th>Equity(2 [ARNC])</th>\n",
       "      <td>0.0110</td>\n",
       "    </tr>\n",
       "    <tr>\n",
       "      <th>Equity(41 [ARCB])</th>\n",
       "      <td>0.0064</td>\n",
       "    </tr>\n",
       "    <tr>\n",
       "      <th>Equity(52 [ABM])</th>\n",
       "      <td>0.0240</td>\n",
       "    </tr>\n",
       "    <tr>\n",
       "      <th>Equity(62 [ABT])</th>\n",
       "      <td>0.0279</td>\n",
       "    </tr>\n",
       "    <tr>\n",
       "      <th>Equity(64 [ABX])</th>\n",
       "      <td>0.0192</td>\n",
       "    </tr>\n",
       "  </tbody>\n",
       "</table>\n",
       "</div>"
      ],
      "text/plain": [
       "                                             Dividend Yield\n",
       "2015-11-11 00:00:00+00:00 Equity(2 [ARNC])           0.0110\n",
       "                          Equity(41 [ARCB])          0.0064\n",
       "                          Equity(52 [ABM])           0.0240\n",
       "                          Equity(62 [ABT])           0.0279\n",
       "                          Equity(64 [ABX])           0.0192"
      ]
     },
     "execution_count": 3,
     "metadata": {},
     "output_type": "execute_result"
    }
   ],
   "source": [
    "# create the pipeline\n",
    "temp_pipe_1 = Pipeline()\n",
    "\n",
    "# add the factor to the pipeline\n",
    "temp_pipe_1.add(Div_Yield(), 'Dividend Yield')\n",
    "\n",
    "# run the pipeline and get data for first 5 equities\n",
    "run_pipeline(temp_pipe_1, start_date = '2015-11-11', end_date = '2015-11-11').dropna().head()"
   ]
  },
  {
   "cell_type": "markdown",
   "metadata": {},
   "source": [
    "## 价格与账面价值之比\n",
    "\n",
    "价格与账面价值之比，即市净率，计算方法如下:\n",
    "\n",
    "$$P/B\\;Ratio = \\frac{Price\\;per\\;share}{Net\\;Asset\\;Value\\;per\\;share}$$\n",
    "\n",
    "每股资产净值可以认为(非常粗略地)是一家公司的总资产减去总负债，再除以发行在外的股票数量。\n",
    "\n",
    "市盈率给人一种股票要么被高估要么被低估的感觉。高市盈率意味着股票价格被高估，因此应该做空，而低市盈率是有吸引力的，因为通过购买股票而获得的股票假设“价值高于”所支付的价格。\n",
    "\n",
    "现在，我们将创建一个P/B比率自定义因子，并查看一些结果。"
   ]
  },
  {
   "cell_type": "code",
   "execution_count": 4,
   "metadata": {},
   "outputs": [
    {
     "data": {
      "text/html": [
       "<div>\n",
       "<table border=\"1\" class=\"dataframe\">\n",
       "  <thead>\n",
       "    <tr style=\"text-align: right;\">\n",
       "      <th></th>\n",
       "      <th></th>\n",
       "      <th>P/B Ratio</th>\n",
       "    </tr>\n",
       "  </thead>\n",
       "  <tbody>\n",
       "    <tr>\n",
       "      <th rowspan=\"5\" valign=\"top\">2015-11-11 00:00:00+00:00</th>\n",
       "      <th>Equity(2 [ARNC])</th>\n",
       "      <td>0.899825</td>\n",
       "    </tr>\n",
       "    <tr>\n",
       "      <th>Equity(21 [AAME])</th>\n",
       "      <td>0.976077</td>\n",
       "    </tr>\n",
       "    <tr>\n",
       "      <th>Equity(24 [AAPL])</th>\n",
       "      <td>5.632086</td>\n",
       "    </tr>\n",
       "    <tr>\n",
       "      <th>Equity(25 [ARNC_PR])</th>\n",
       "      <td>NaN</td>\n",
       "    </tr>\n",
       "    <tr>\n",
       "      <th>Equity(31 [ABAX])</th>\n",
       "      <td>5.281542</td>\n",
       "    </tr>\n",
       "  </tbody>\n",
       "</table>\n",
       "</div>"
      ],
      "text/plain": [
       "                                                P/B Ratio\n",
       "2015-11-11 00:00:00+00:00 Equity(2 [ARNC])       0.899825\n",
       "                          Equity(21 [AAME])      0.976077\n",
       "                          Equity(24 [AAPL])      5.632086\n",
       "                          Equity(25 [ARNC_PR])        NaN\n",
       "                          Equity(31 [ABAX])      5.281542"
      ]
     },
     "execution_count": 4,
     "metadata": {},
     "output_type": "execute_result"
    }
   ],
   "source": [
    "# Custom Factor 2 : P/B Ratio\n",
    "class Price_to_Book(CustomFactor):\n",
    "    inputs = [Fundamentals.pb_ratio]\n",
    "    window_length = 1\n",
    "\n",
    "    def compute(self, today, assets, out, pbr):\n",
    "        out[:] = pbr[-1]\n",
    "        \n",
    "# create the Pipeline\n",
    "temp_pipe_2 = Pipeline()\n",
    "\n",
    "# add the factor to the Pipeline\n",
    "temp_pipe_2.add(Price_to_Book(), 'P/B Ratio')\n",
    "\n",
    "# run the Pipeline and get data for first 5 equities\n",
    "run_pipeline(temp_pipe_2, start_date='2015-11-11', end_date='2015-11-11').head()"
   ]
  },
  {
   "cell_type": "markdown",
   "metadata": {},
   "source": [
    "关于这个数据系列，有两点需要说明。\n",
    "\n",
    "首先，通过管道将AA_PR的P/B比率表示为NaN。NaN代表“not a number”，当一个值不能通过管道获取时发生。最后，我们将从数据集中删除这些NaN值，因为它们在操作数据时经常导致令人困惑的错误。\n",
    "\n",
    "其次，低P/B和高股息率对投资者有吸引力，而高P/B和低股息率对投资者没有吸引力。因此，我们将通过使因子输出中的每个值为负来“反转”P/B比率，以便在以后的算法中聚合数据时，最大值和最小值具有相同的底层“含义”。"
   ]
  },
  {
   "cell_type": "markdown",
   "metadata": {},
   "source": [
    "## 价格与过去12个月销售额之比\n",
    "\n",
    "这是计算每股价格和过去12个月(TTM)销售额之间的简单比率。\n",
    "\n",
    "TTM是一种转换，而不是一种度量，它可以有效地计算一年前某个特定季度的基本价值的改善或恶化。举个例子,如果一个人想要计算今天的TTM销售公司XYZ,一个将最近一个季度的收入除以本季度的收入之间的差异和本季度的收入去年增加了收入的公司最近财政年终申报。\n",
    "\n",
    "使用管道确实可以计算出一个安全的确切TTM;但是，所需的代码很慢。幸运的是，这个价值可以很好地用内置的基本晨星比率来近似，该比率使用年度销售来计算价格与销售基本价值之比。这一微小的变化极大地提高了代码的速度，但对策略本身的结果几乎没有影响。"
   ]
  },
  {
   "cell_type": "markdown",
   "metadata": {},
   "source": [
    "在功能方面，TTM销售额与价格之比与P/B比相似。这两个比率的主要区别在于，TTM的加入意味着季节波动被最小化，因为之前的数据是用来平滑值的。在我们的例子中，年化值完成了同样的平滑。\n",
    "\n",
    "另外，请注意产生的值是负数;这个因素需要与P/B比率相同的反演。"
   ]
  },
  {
   "cell_type": "code",
   "execution_count": 5,
   "metadata": {},
   "outputs": [
    {
     "data": {
      "text/html": [
       "<div>\n",
       "<table border=\"1\" class=\"dataframe\">\n",
       "  <thead>\n",
       "    <tr style=\"text-align: right;\">\n",
       "      <th></th>\n",
       "      <th></th>\n",
       "      <th>Price / TTM Sales</th>\n",
       "    </tr>\n",
       "  </thead>\n",
       "  <tbody>\n",
       "    <tr>\n",
       "      <th rowspan=\"5\" valign=\"top\">2015-11-11 00:00:00+00:00</th>\n",
       "      <th>Equity(2 [ARNC])</th>\n",
       "      <td>-0.453038</td>\n",
       "    </tr>\n",
       "    <tr>\n",
       "      <th>Equity(21 [AAME])</th>\n",
       "      <td>-0.629844</td>\n",
       "    </tr>\n",
       "    <tr>\n",
       "      <th>Equity(24 [AAPL])</th>\n",
       "      <td>-2.988556</td>\n",
       "    </tr>\n",
       "    <tr>\n",
       "      <th>Equity(25 [ARNC_PR])</th>\n",
       "      <td>NaN</td>\n",
       "    </tr>\n",
       "    <tr>\n",
       "      <th>Equity(31 [ABAX])</th>\n",
       "      <td>-5.640918</td>\n",
       "    </tr>\n",
       "  </tbody>\n",
       "</table>\n",
       "</div>"
      ],
      "text/plain": [
       "                                                Price / TTM Sales\n",
       "2015-11-11 00:00:00+00:00 Equity(2 [ARNC])              -0.453038\n",
       "                          Equity(21 [AAME])             -0.629844\n",
       "                          Equity(24 [AAPL])             -2.988556\n",
       "                          Equity(25 [ARNC_PR])                NaN\n",
       "                          Equity(31 [ABAX])             -5.640918"
      ]
     },
     "execution_count": 5,
     "metadata": {},
     "output_type": "execute_result"
    }
   ],
   "source": [
    "# Custom Factor 3 : Price to Trailing 12 Month Sales       \n",
    "class Price_to_TTM_Sales(CustomFactor):\n",
    "    inputs = [Fundamentals.ps_ratio]\n",
    "    window_length = 1\n",
    "    \n",
    "    def compute(self, today, assets, out, ps):\n",
    "        out[:] = -ps[-1]\n",
    "        \n",
    "# create the pipeline\n",
    "temp_pipe_3 = Pipeline()\n",
    "\n",
    "# add the factor to the pipeline\n",
    "temp_pipe_3.add(Price_to_TTM_Sales(), 'Price / TTM Sales')\n",
    "\n",
    "# run the pipeline and get data for first 5 equities\n",
    "run_pipeline(temp_pipe_3, start_date='2015-11-11', end_date='2015-11-11').head()"
   ]
  },
  {
   "cell_type": "markdown",
   "metadata": {},
   "source": [
    "## 过去12个月的现金流与价格之比\n",
    "\n",
    "这是计算每股价格和TTM自由现金流的简单比率(这里使用内置的基本晨星比率作为近似)。\n",
    "\n",
    "这个比率的功能与前两个类似。未来的记事本将探索这些指标的细微差别，但它们的目的大致相同。同样，低值有吸引力，高值没有吸引力，因此度量必须是相反的。"
   ]
  },
  {
   "cell_type": "code",
   "execution_count": 6,
   "metadata": {},
   "outputs": [
    {
     "data": {
      "text/html": [
       "<div>\n",
       "<table border=\"1\" class=\"dataframe\">\n",
       "  <thead>\n",
       "    <tr style=\"text-align: right;\">\n",
       "      <th></th>\n",
       "      <th></th>\n",
       "      <th>Price / TTM Cashflows</th>\n",
       "    </tr>\n",
       "  </thead>\n",
       "  <tbody>\n",
       "    <tr>\n",
       "      <th rowspan=\"5\" valign=\"top\">2015-11-11 00:00:00+00:00</th>\n",
       "      <th>Equity(2 [ARNC])</th>\n",
       "      <td>-4.929472</td>\n",
       "    </tr>\n",
       "    <tr>\n",
       "      <th>Equity(21 [AAME])</th>\n",
       "      <td>-34.732899</td>\n",
       "    </tr>\n",
       "    <tr>\n",
       "      <th>Equity(24 [AAPL])</th>\n",
       "      <td>-8.594865</td>\n",
       "    </tr>\n",
       "    <tr>\n",
       "      <th>Equity(25 [ARNC_PR])</th>\n",
       "      <td>NaN</td>\n",
       "    </tr>\n",
       "    <tr>\n",
       "      <th>Equity(31 [ABAX])</th>\n",
       "      <td>-42.920180</td>\n",
       "    </tr>\n",
       "  </tbody>\n",
       "</table>\n",
       "</div>"
      ],
      "text/plain": [
       "                                                Price / TTM Cashflows\n",
       "2015-11-11 00:00:00+00:00 Equity(2 [ARNC])                  -4.929472\n",
       "                          Equity(21 [AAME])                -34.732899\n",
       "                          Equity(24 [AAPL])                 -8.594865\n",
       "                          Equity(25 [ARNC_PR])                    NaN\n",
       "                          Equity(31 [ABAX])                -42.920180"
      ]
     },
     "execution_count": 6,
     "metadata": {},
     "output_type": "execute_result"
    }
   ],
   "source": [
    "# Custom Factor 4 : Price to Trailing 12 Month Cashflow\n",
    "class Price_to_TTM_Cashflows(CustomFactor):\n",
    "    inputs = [Fundamentals.pcf_ratio]\n",
    "    window_length = 1\n",
    "    \n",
    "    def compute(self, today, assets, out, pcf):\n",
    "        out[:] = -pcf[-1] \n",
    "        \n",
    "# create the pipeline\n",
    "temp_pipe_4 = Pipeline()\n",
    "\n",
    "# add the factor to the pipeline\n",
    "temp_pipe_4.add(Price_to_TTM_Cashflows(), 'Price / TTM Cashflows')\n",
    "\n",
    "# run the pipeline and get data for first 5 equities\n",
    "run_pipeline(temp_pipe_4, start_date='2015-11-11', end_date='2015-11-11').head()"
   ]
  },
  {
   "cell_type": "markdown",
   "metadata": {},
   "source": [
    "## 完整的管道\n",
    "\n",
    "既然已经添加了每个单独的因素，现在就该立即获取所有必要的数据了。在算法中，这将每天发生一次。\n",
    "\n",
    "在稍后的过程中，我们将需要一个因子来创建一个近似的标准普尔500指数，因此我们还将包括另一个因子SPY_proxy (SPY是跟踪标准普尔500指数的ETF)。标准普尔500指数是500家在股票市场上交易的最大公司的集合。我们对标准普尔500指数的解释是500家市值最高的公司;然而，实际的标准普尔500指数将略有不同，因为创建该指数的标准普尔(Standard and Poors)有更微妙的计算算法。\n",
    "\n",
    "我们还将改变我们的P/B比率因子，以说明反演。"
   ]
  },
  {
   "cell_type": "code",
   "execution_count": 7,
   "metadata": {
    "scrolled": true
   },
   "outputs": [
    {
     "data": {
      "text/html": [
       "<div>\n",
       "<table border=\"1\" class=\"dataframe\">\n",
       "  <thead>\n",
       "    <tr style=\"text-align: right;\">\n",
       "      <th></th>\n",
       "      <th></th>\n",
       "      <th>Dividend Yield</th>\n",
       "      <th>Price / TTM Cashflow</th>\n",
       "      <th>Price / TTM Sales</th>\n",
       "      <th>Price to Book</th>\n",
       "      <th>SPY Proxy</th>\n",
       "    </tr>\n",
       "  </thead>\n",
       "  <tbody>\n",
       "    <tr>\n",
       "      <th rowspan=\"5\" valign=\"top\">2015-11-11 00:00:00+00:00</th>\n",
       "      <th>Equity(2 [ARNC])</th>\n",
       "      <td>0.011</td>\n",
       "      <td>-4.929472</td>\n",
       "      <td>-0.453038</td>\n",
       "      <td>-0.899825</td>\n",
       "      <td>1.128021e+10</td>\n",
       "    </tr>\n",
       "    <tr>\n",
       "      <th>Equity(21 [AAME])</th>\n",
       "      <td>NaN</td>\n",
       "      <td>-34.732899</td>\n",
       "      <td>-0.629844</td>\n",
       "      <td>-0.976077</td>\n",
       "      <td>1.029634e+08</td>\n",
       "    </tr>\n",
       "    <tr>\n",
       "      <th>Equity(24 [AAPL])</th>\n",
       "      <td>NaN</td>\n",
       "      <td>-8.594865</td>\n",
       "      <td>-2.988556</td>\n",
       "      <td>-5.632086</td>\n",
       "      <td>6.722177e+11</td>\n",
       "    </tr>\n",
       "    <tr>\n",
       "      <th>Equity(25 [ARNC_PR])</th>\n",
       "      <td>NaN</td>\n",
       "      <td>NaN</td>\n",
       "      <td>NaN</td>\n",
       "      <td>NaN</td>\n",
       "      <td>NaN</td>\n",
       "    </tr>\n",
       "    <tr>\n",
       "      <th>Equity(31 [ABAX])</th>\n",
       "      <td>NaN</td>\n",
       "      <td>-42.920180</td>\n",
       "      <td>-5.640918</td>\n",
       "      <td>-5.281542</td>\n",
       "      <td>1.186963e+09</td>\n",
       "    </tr>\n",
       "  </tbody>\n",
       "</table>\n",
       "</div>"
      ],
      "text/plain": [
       "                                                Dividend Yield  \\\n",
       "2015-11-11 00:00:00+00:00 Equity(2 [ARNC])               0.011   \n",
       "                          Equity(21 [AAME])                NaN   \n",
       "                          Equity(24 [AAPL])                NaN   \n",
       "                          Equity(25 [ARNC_PR])             NaN   \n",
       "                          Equity(31 [ABAX])                NaN   \n",
       "\n",
       "                                                Price / TTM Cashflow  \\\n",
       "2015-11-11 00:00:00+00:00 Equity(2 [ARNC])                 -4.929472   \n",
       "                          Equity(21 [AAME])               -34.732899   \n",
       "                          Equity(24 [AAPL])                -8.594865   \n",
       "                          Equity(25 [ARNC_PR])                   NaN   \n",
       "                          Equity(31 [ABAX])               -42.920180   \n",
       "\n",
       "                                                Price / TTM Sales  \\\n",
       "2015-11-11 00:00:00+00:00 Equity(2 [ARNC])              -0.453038   \n",
       "                          Equity(21 [AAME])             -0.629844   \n",
       "                          Equity(24 [AAPL])             -2.988556   \n",
       "                          Equity(25 [ARNC_PR])                NaN   \n",
       "                          Equity(31 [ABAX])             -5.640918   \n",
       "\n",
       "                                                Price to Book     SPY Proxy  \n",
       "2015-11-11 00:00:00+00:00 Equity(2 [ARNC])          -0.899825  1.128021e+10  \n",
       "                          Equity(21 [AAME])         -0.976077  1.029634e+08  \n",
       "                          Equity(24 [AAPL])         -5.632086  6.722177e+11  \n",
       "                          Equity(25 [ARNC_PR])            NaN           NaN  \n",
       "                          Equity(31 [ABAX])         -5.281542  1.186963e+09  "
      ]
     },
     "execution_count": 7,
     "metadata": {},
     "output_type": "execute_result"
    }
   ],
   "source": [
    "# This factor creates the synthetic S&P500\n",
    "class SPY_proxy(CustomFactor):\n",
    "    inputs = [Fundamentals.market_cap]\n",
    "    window_length = 1\n",
    "    \n",
    "    def compute(self, today, assets, out, mc):\n",
    "        out[:] = mc[-1]\n",
    "        \n",
    "# Custom Factor 2 : P/B Ratio\n",
    "class Price_to_Book(CustomFactor):\n",
    "    inputs = [Fundamentals.pb_ratio]\n",
    "    window_length = 1\n",
    "\n",
    "    def compute(self, today, assets, out, pbr):\n",
    "        out[:] = -pbr[-1]\n",
    "        \n",
    "def Data_Pull():\n",
    "    \n",
    "    # create the piepline for the data pull\n",
    "    Data_Pipe = Pipeline()\n",
    "    \n",
    "    # create SPY proxy\n",
    "    Data_Pipe.add(SPY_proxy(), 'SPY Proxy')\n",
    "\n",
    "    # Div Yield\n",
    "    Data_Pipe.add(Div_Yield(), 'Dividend Yield') \n",
    "    \n",
    "    # Price to Book\n",
    "    Data_Pipe.add(Price_to_Book(), 'Price to Book')\n",
    "    \n",
    "    # Price / TTM Sales\n",
    "    Data_Pipe.add(Price_to_TTM_Sales(), 'Price / TTM Sales')\n",
    "    \n",
    "    # Price / TTM Cashflows\n",
    "    Data_Pipe.add(Price_to_TTM_Cashflows(), 'Price / TTM Cashflow')\n",
    "        \n",
    "    return Data_Pipe\n",
    "\n",
    "# NB: Data pull is a function that returns a Pipeline object, so need ()\n",
    "results = run_pipeline(Data_Pull(), start_date='2015-11-11', end_date='2015-11-11')\n",
    "results.head()"
   ]
  },
  {
   "cell_type": "markdown",
   "metadata": {},
   "source": [
    "## 聚合\n",
    "\n",
    "现在我们有了所有的数据，我们需要操纵这些数据来创建证券的单一排名。Lo/Patel推荐以下算法:\n",
    "\n",
    "* 从权益集中提取标准普尔500，并找到该数据集的每个因素的平均值和标准偏差(standard_frame_compute)\n",
    "\n",
    "* 使用这些计算值来标准化每个因素(standard_frame_compute)\n",
    "\n",
    "* 将大于10或小于-10的值分别替换为10和-10，以限制离群值的影响(filter_fn)\n",
    "\n",
    "* 将每个权益的这些值相加，然后除以因子的数量，得到-10到10之间的值(综合分数)\n",
    "\n",
    "其代码如下所示。"
   ]
  },
  {
   "cell_type": "code",
   "execution_count": 8,
   "metadata": {},
   "outputs": [
    {
     "name": "stderr",
     "output_type": "stream",
     "text": [
      "/usr/local/lib/python2.7/dist-packages/ipykernel_launcher.py:17: FutureWarning: sort(columns=....) is deprecated, use sort_values(by=.....)\n",
      "/usr/local/lib/python2.7/dist-packages/ipykernel_launcher.py:66: FutureWarning: sort is deprecated, use sort_values(inplace=True) for INPLACE sorting\n"
     ]
    },
    {
     "data": {
      "text/plain": [
       "(2015-11-11 00:00:00+00:00, Equity(35162 [ARR]))      1.941979\n",
       "(2015-11-11 00:00:00+00:00, Equity(27019 [WIN]))      1.670852\n",
       "(2015-11-11 00:00:00+00:00, Equity(39622 [NKA]))      1.631767\n",
       "(2015-11-11 00:00:00+00:00, Equity(28076 [RSO]))      1.575746\n",
       "(2015-11-11 00:00:00+00:00, Equity(32675 [BBEP]))     1.508037\n",
       "(2015-11-11 00:00:00+00:00, Equity(27993 [LINE]))     1.448997\n",
       "(2015-11-11 00:00:00+00:00, Equity(11461 [DOM]))      1.439093\n",
       "(2015-11-11 00:00:00+00:00, Equity(24102 [NRP]))      1.415778\n",
       "(2015-11-11 00:00:00+00:00, Equity(5061 [MSFT]))      1.408201\n",
       "(2015-11-11 00:00:00+00:00, Equity(34662 [NYMT]))     1.333686\n",
       "(2015-11-11 00:00:00+00:00, Equity(8347 [XOM]))       1.324958\n",
       "(2015-11-11 00:00:00+00:00, Equity(33159 [LGCY]))     1.251848\n",
       "(2015-11-11 00:00:00+00:00, Equity(33178 [MVO]))      1.247968\n",
       "(2015-11-11 00:00:00+00:00, Equity(38477 [CYS]))      1.226731\n",
       "(2015-11-11 00:00:00+00:00, Equity(35054 [NMM]))      1.213649\n",
       "(2015-11-11 00:00:00+00:00, Equity(3149 [GE]))        1.178168\n",
       "(2015-11-11 00:00:00+00:00, Equity(38887 [TWO]))      1.170784\n",
       "(2015-11-11 00:00:00+00:00, Equity(40060 [FULL]))     1.162997\n",
       "(2015-11-11 00:00:00+00:00, Equity(26517 [PSEC]))     1.160164\n",
       "(2015-11-11 00:00:00+00:00, Equity(6653 [T]))         1.146484\n",
       "(2015-11-11 00:00:00+00:00, Equity(21907 [MNDO]))     1.107410\n",
       "(2015-11-11 00:00:00+00:00, Equity(32443 [PGH]))      1.087876\n",
       "(2015-11-11 00:00:00+00:00, Equity(32293 [OBE]))      1.056844\n",
       "(2015-11-11 00:00:00+00:00, Equity(7143 [SAN]))       1.049898\n",
       "(2015-11-11 00:00:00+00:00, Equity(17657 [ORAN]))     1.046273\n",
       "(2015-11-11 00:00:00+00:00, Equity(27487 [RDS_A]))    1.040481\n",
       "(2015-11-11 00:00:00+00:00, Equity(39942 [AT]))       1.038906\n",
       "(2015-11-11 00:00:00+00:00, Equity(34931 [VNR]))      1.034368\n",
       "(2015-11-11 00:00:00+00:00, Equity(33024 [KCAP]))     1.026654\n",
       "(2015-11-11 00:00:00+00:00, Equity(27470 [RDS_B]))    1.022292\n",
       "                                                        ...   \n",
       "(2015-11-11 00:00:00+00:00, Equity(26017 [UTG]))     -0.982711\n",
       "(2015-11-11 00:00:00+00:00, Equity(26781 [MKTX]))    -0.983476\n",
       "(2015-11-11 00:00:00+00:00, Equity(34797 [MAIN]))    -1.026855\n",
       "(2015-11-11 00:00:00+00:00, Equity(1068 [BPT]))      -1.153233\n",
       "(2015-11-11 00:00:00+00:00, Equity(41886 [FNV]))     -1.172843\n",
       "(2015-11-11 00:00:00+00:00, Equity(22545 [NXJ]))     -1.209950\n",
       "(2015-11-11 00:00:00+00:00, Equity(28356 [GLO]))     -1.214150\n",
       "(2015-11-11 00:00:00+00:00, Equity(18522 [ARMH]))    -1.248968\n",
       "(2015-11-11 00:00:00+00:00, Equity(27200 [GLQ]))     -1.287656\n",
       "(2015-11-11 00:00:00+00:00, Equity(26521 [GLV]))     -1.289762\n",
       "(2015-11-11 00:00:00+00:00, Equity(7551 [TPL]))      -1.306126\n",
       "(2015-11-11 00:00:00+00:00, Equity(40168 [CFD]))     -1.336972\n",
       "(2015-11-11 00:00:00+00:00, Equity(24489 [GLNG]))    -1.348952\n",
       "(2015-11-11 00:00:00+00:00, Equity(5272 [NRT]))      -1.370774\n",
       "(2015-11-11 00:00:00+00:00, Equity(24731 [LEN_B]))   -1.519243\n",
       "(2015-11-11 00:00:00+00:00, Equity(1423 [CET]))      -1.525415\n",
       "(2015-11-11 00:00:00+00:00, Equity(4263 [KMB]))      -1.531782\n",
       "(2015-11-11 00:00:00+00:00, Equity(2382 [DXR]))      -1.561114\n",
       "(2015-11-11 00:00:00+00:00, Equity(2404 [EAT]))      -1.562417\n",
       "(2015-11-11 00:00:00+00:00, Equity(35902 [PM]))      -1.570361\n",
       "(2015-11-11 00:00:00+00:00, Equity(1936 [CSWC]))     -1.618194\n",
       "(2015-11-11 00:00:00+00:00, Equity(26414 [FEN]))     -1.750639\n",
       "(2015-11-11 00:00:00+00:00, Equity(20277 [RAI]))     -1.769105\n",
       "(2015-11-11 00:00:00+00:00, Equity(4417 [LEN]))      -1.885524\n",
       "(2015-11-11 00:00:00+00:00, Equity(2420 [ECF]))      -1.917463\n",
       "(2015-11-11 00:00:00+00:00, Equity(4849 [SPGI]))     -1.927483\n",
       "(2015-11-11 00:00:00+00:00, Equity(33555 [CQP]))     -2.062992\n",
       "(2015-11-11 00:00:00+00:00, Equity(4564 [LB]))       -2.086269\n",
       "(2015-11-11 00:00:00+00:00, Equity(5281 [NEN]))      -2.200646\n",
       "(2015-11-11 00:00:00+00:00, Equity(13508 [CLB]))     -2.521344\n",
       "dtype: float64"
      ]
     },
     "execution_count": 8,
     "metadata": {},
     "output_type": "execute_result"
    }
   ],
   "source": [
    "# limit effect of outliers\n",
    "def filter_fn(x):\n",
    "    if x <= -10:\n",
    "        x = -10.0\n",
    "    elif x >= 10:\n",
    "        x = 10.0\n",
    "    return x   \n",
    "\n",
    "# standardize using mean and sd of S&P500\n",
    "def standard_frame_compute(df):\n",
    "    \n",
    "    # basic clean of dataset to remove infinite values\n",
    "    df = df.replace([np.inf, -np.inf], np.nan)\n",
    "    df = df.dropna()\n",
    "    \n",
    "    # need standardization params from synthetic S&P500\n",
    "    df_SPY = df.sort(columns='SPY Proxy', ascending=False)\n",
    "\n",
    "    # create separate dataframe for SPY\n",
    "    # to store standardization values\n",
    "    df_SPY = df_SPY.head(500)\n",
    "    \n",
    "    # get dataframes into numpy array\n",
    "    df_SPY = df_SPY.as_matrix()\n",
    "    \n",
    "    # store index values\n",
    "    index = df.index.values\n",
    "    df = df.as_matrix()\n",
    "    \n",
    "    df_standard = np.empty(df.shape[0])\n",
    "    \n",
    "    \n",
    "    for col_SPY, col_full in zip(df_SPY.T, df.T):\n",
    "        \n",
    "        # summary stats for S&P500\n",
    "        mu = np.mean(col_SPY)\n",
    "        sigma = np.std(col_SPY)\n",
    "        col_standard = np.array(((col_full - mu) / sigma)) \n",
    "\n",
    "        # create vectorized function (lambda equivalent)\n",
    "        fltr = np.vectorize(filter_fn)\n",
    "        col_standard = (fltr(col_standard))\n",
    "        \n",
    "        # make range between -10 and 10\n",
    "        col_standard = (col_standard / df.shape[1])\n",
    "        \n",
    "        # attach calculated values as new row in df_standard\n",
    "        df_standard = np.vstack((df_standard, col_standard))\n",
    "     \n",
    "    # get rid of first entry (empty scores)\n",
    "    df_standard = np.delete(df_standard,0,0)\n",
    "    \n",
    "    return (df_standard, index)\n",
    "\n",
    "# Sum up and sort data\n",
    "def composite_score(df, index):\n",
    "\n",
    "    # sum up transformed data\n",
    "    df_composite = df.sum(axis=0)\n",
    "    \n",
    "    # put into a pandas dataframe and connect numbers\n",
    "    # to equities via reindexing\n",
    "    df_composite = pd.Series(data=df_composite,index=index)\n",
    "    \n",
    "    # sort descending\n",
    "    df_composite.sort_values(ascending=False)\n",
    "\n",
    "    return df_composite\n",
    "\n",
    "# compute the standardized values\n",
    "results_standard, index = standard_frame_compute(results)\n",
    "\n",
    "# aggregate the scores\n",
    "ranked_scores = composite_score(results_standard, index)\n",
    "\n",
    "# print the final rankings\n",
    "ranked_scores"
   ]
  },
  {
   "cell_type": "markdown",
   "metadata": {},
   "source": [
    "## 股票的选择\n",
    "\n",
    "现在我们已经对我们的证券进行了排序，我们需要选择一个长篮子和一个短篮子。既然我们需要在多头和空头之间保持130/30的比例，为什么不拥有26多头和6空头(在算法中，我们将平均衡量每一个多头和6个空头，从而得到我们想要的杠杆和敞口)。\n",
    "\n",
    "在下面的图表中，我们绘制了证券的柱状图来了解分数的分布。红线表示长桶和短桶的截止点。值得注意的一点是，绝大多数股票的排名都在柱状图的中间，而尾部则非常薄。这将表明，在这些篮子中选择的证券有一些特别之处，而且——希望如此——这些特别的品质将为该策略产生正的阿尔法。"
   ]
  },
  {
   "cell_type": "code",
   "execution_count": 9,
   "metadata": {},
   "outputs": [
    {
     "data": {
      "image/png": "[encoded data removed]",
      "text/plain": [
       "<matplotlib.figure.Figure at 0x7f8b874fbb90>"
      ]
     },
     "metadata": {},
     "output_type": "display_data"
    }
   ],
   "source": [
    "# create histogram of scores\n",
    "ranked_scores.hist()\n",
    "\n",
    "# make scores into list for ease of manipulation\n",
    "ranked_scores_list = ranked_scores.tolist()\n",
    "\n",
    "# add labels to axes\n",
    "plt.xlabel('Standardized Scores')\n",
    "plt.ylabel('Quantity in Basket')\n",
    "\n",
    "# show long bucket\n",
    "plt.axvline(x=ranked_scores_list[25], linewidth=1, color='r')\n",
    "\n",
    "# show short bucket\n",
    "plt.axvline(x=ranked_scores_list[-6], linewidth=1, color='r');"
   ]
  },
  {
   "cell_type": "markdown",
   "metadata": {},
   "source": [
    "请参阅完整的算法回测回报!"
   ]
  },
  {
   "cell_type": "markdown",
   "metadata": {},
   "source": [
    "注:在算法的实现中，为了保证只包含可交易股票，使用了一系列的过滤器。这个过滤器的方法可以在https://www.quantopian.com/posts/pipeline-trading-universe-best-practice 找到。"
   ]
  }
 ],
 "metadata": {
  "kernelspec": {
   "display_name": "Python 3",
   "language": "python",
   "name": "python3"
  },
  "language_info": {
   "codemirror_mode": {
    "name": "ipython",
    "version": 3
   },
   "file_extension": ".py",
   "mimetype": "text/x-python",
   "name": "python",
   "nbconvert_exporter": "python",
   "pygments_lexer": "ipython3",
   "version": "3.7.7"
  }
 },
 "nbformat": 4,
 "nbformat_minor": 1
}
