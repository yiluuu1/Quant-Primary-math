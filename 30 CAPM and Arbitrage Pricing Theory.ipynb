{
 "cells": [
  {
   "cell_type": "markdown",
   "metadata": {},
   "source": [
    "# 资本资产定价模型与套利定价理论\n",
    "by Beha Abasi, Maxwell Margenot, and Delaney Granizo-Mackenzie\n",
    "\n",
    "Part of the Quantopian Lecture Series:\n",
    "\n",
    "* [www.quantopian.com/lectures](https://www.quantopian.com/lectures)\n",
    "* [https://github.com/quantopian/research_public](https://github.com/quantopian/research_public)\n",
    "\n",
    "\n",
    "---\n",
    "\n",
    "资本资产定价模型(CAPM)是衡量资本成本的经典方法。它经常被用于金融评估资产的价格和评估风险溢价的影响从整个市场。在这一讲中，我们将讨论CAPM，即更一般的套利定价理论(APT)，以形成评估与各种因素相关的风险的基础。"
   ]
  },
  {
   "cell_type": "code",
   "execution_count": 1,
   "metadata": {},
   "outputs": [],
   "source": [
    "import numpy as np\n",
    "import pandas as pd\n",
    "import statsmodels.api as sm\n",
    "from statsmodels import regression\n",
    "import matplotlib.pyplot as plt"
   ]
  },
  {
   "cell_type": "markdown",
   "metadata": {},
   "source": [
    "## 个体和系统性风险\n",
    "\n",
    "一般来说，投资组合和资产可能面临两种风险:特殊风险和系统风险。**非系统性风险**是指企业特有的、可以分散的风险，如管理变更或生产缺陷，而**系统风险**是市场范围内的，影响所有市场参与者。一个例子可能是经济放缓或利率变化。因为所有的公司都面临着系统风险，它不可能多样化。\n",
    "\n",
    "## 风险溢价\n",
    "\n",
    "随着投资组合中资产数量的增加，许多特殊风险被抵消并分散。这是我们希望避免[仓位集中风险](https://www.quantopian.com/lectures/position-concentration-risk)的关键原因。当你的投资组合越来越大，并通过多样化进行更多的独立投资时，投资组合的方差会下降，直到只剩下系统风险。由于我们无法消除系统性风险，投资者必须获得高于无风险回报率的风险溢价，以补偿他们通过投资于这种投资组合所承担的风险。这个投资组合中的单个公司层面的风险没有相关的溢价，因为这会创造套利机会。股东可以收取风险溢价，同时分散与他们相关的风险。这将意味着没有任何额外风险敞口的额外利润。这就是套利机会的定义!"
   ]
  },
  {
   "cell_type": "markdown",
   "metadata": {},
   "source": [
    "从这个推理中，我们可以得出这样的结论:一种资产的溢价应该与它的特殊风险无关，而应该完全依赖于它所承担的系统风险水平。为了准确计算一项资产的风险溢价，从而计算出我们的预期收益，我们需要找到一种衡量系统风险的方法。如果我们有，那么我们可以从理论上定义资产的回报如下:\n",
    "\n",
    "$$E[\\mbox{回报率}] = \\mbox{无风险回报率} + \\mbox{风险溢价}$$\n",
    "\n",
    "一种方法是估计一项资产超额回报的变化与市场超额回报的变化之间的关系。将其表示为线性回归，我们得到了市场组合收益率每变化1%，资产预期收益率变化的关系。\n",
    "\n",
    "理论上，这个市场组合应该没有可分散的风险，因此只会随着系统冲击而波动。在实践中，我们使用市场指数，如标准普尔500指数作为市场投资组合的代理。我们用市场回报率来回归资产回报率所得到的贝塔值，将是衡量系统性风险的指标。这个贝塔系数代表了资产回报流对市场震荡的敏感性。\n",
    "\n",
    "给定此beta，资产$i$的风险溢价定义为:\n",
    "\n",
    "$$\\mbox{资产的风险溢价}_i = \\beta\\times (\\mbox{市场风险溢价})$$\n",
    "\n",
    "我们把这个简单的模型称为资本资产定价模型(CAPM)。\n",
    "\n",
    "## 资本资产定价理论\n",
    "\n",
    "我们可以将CAPM表达得更清楚，如下:\n",
    "\n",
    "$$E[R_i] = R_F + \\beta(E[R_M] - R_F)$$\n",
    "\n",
    "其中$R_i$为资产$i$的收益率，$R_F$为无风险利率，$R_M$为市场收益率。资本资产定价机制是衡量资本成本最基本的指标之一。它决定了吸引投资者持有某种资产所需的最低回报率。\n",
    "\n",
    "换句话说,CAPM说资产的回报应该是无风险利率,这是我们需要考虑到通货膨胀和货币的时间价值,以及一些额外的补偿我们的系统性风险暴露。"
   ]
  },
  {
   "cell_type": "code",
   "execution_count": 2,
   "metadata": {},
   "outputs": [
    {
     "name": "stdout",
     "output_type": "stream",
     "text": [
      "[*********************100%***********************]  1 of 1 completed\n",
      "[*********************100%***********************]  1 of 1 completed\n",
      "[*********************100%***********************]  1 of 1 completed\n"
     ]
    },
    {
     "name": "stderr",
     "output_type": "stream",
     "text": [
      "D:\\Anaconda3\\lib\\site-packages\\numpy\\core\\fromnumeric.py:2389: FutureWarning: Method .ptp is deprecated and will be removed in a future version. Use numpy.ptp instead.\n",
      "  return ptp(axis=axis, out=out, **kwargs)\n"
     ]
    },
    {
     "data": {
      "text/html": [
       "<table class=\"simpletable\">\n",
       "<caption>OLS Regression Results</caption>\n",
       "<tr>\n",
       "  <th>Dep. Variable:</th>            <td>y</td>        <th>  R-squared:         </th> <td>   0.193</td>\n",
       "</tr>\n",
       "<tr>\n",
       "  <th>Model:</th>                   <td>OLS</td>       <th>  Adj. R-squared:    </th> <td>   0.189</td>\n",
       "</tr>\n",
       "<tr>\n",
       "  <th>Method:</th>             <td>Least Squares</td>  <th>  F-statistic:       </th> <td>   59.42</td>\n",
       "</tr>\n",
       "<tr>\n",
       "  <th>Date:</th>             <td>Thu, 23 Apr 2020</td> <th>  Prob (F-statistic):</th> <td>3.04e-13</td>\n",
       "</tr>\n",
       "<tr>\n",
       "  <th>Time:</th>                 <td>23:20:10</td>     <th>  Log-Likelihood:    </th> <td>  749.52</td>\n",
       "</tr>\n",
       "<tr>\n",
       "  <th>No. Observations:</th>      <td>   251</td>      <th>  AIC:               </th> <td>  -1495.</td>\n",
       "</tr>\n",
       "<tr>\n",
       "  <th>Df Residuals:</th>          <td>   249</td>      <th>  BIC:               </th> <td>  -1488.</td>\n",
       "</tr>\n",
       "<tr>\n",
       "  <th>Df Model:</th>              <td>     1</td>      <th>                     </th>     <td> </td>   \n",
       "</tr>\n",
       "<tr>\n",
       "  <th>Covariance Type:</th>      <td>nonrobust</td>    <th>                     </th>     <td> </td>   \n",
       "</tr>\n",
       "</table>\n",
       "<table class=\"simpletable\">\n",
       "<tr>\n",
       "    <td></td>       <th>coef</th>     <th>std err</th>      <th>t</th>      <th>P>|t|</th>  <th>[0.025</th>    <th>0.975]</th>  \n",
       "</tr>\n",
       "<tr>\n",
       "  <th>const</th> <td>    0.0010</td> <td>    0.001</td> <td>    1.333</td> <td> 0.184</td> <td>   -0.000</td> <td>    0.003</td>\n",
       "</tr>\n",
       "<tr>\n",
       "  <th>SPYL</th>  <td>    0.8430</td> <td>    0.109</td> <td>    7.708</td> <td> 0.000</td> <td>    0.628</td> <td>    1.058</td>\n",
       "</tr>\n",
       "</table>\n",
       "<table class=\"simpletable\">\n",
       "<tr>\n",
       "  <th>Omnibus:</th>       <td>75.701</td> <th>  Durbin-Watson:     </th> <td>   1.981</td>\n",
       "</tr>\n",
       "<tr>\n",
       "  <th>Prob(Omnibus):</th> <td> 0.000</td> <th>  Jarque-Bera (JB):  </th> <td>2562.212</td>\n",
       "</tr>\n",
       "<tr>\n",
       "  <th>Skew:</th>          <td>-0.336</td> <th>  Prob(JB):          </th> <td>    0.00</td>\n",
       "</tr>\n",
       "<tr>\n",
       "  <th>Kurtosis:</th>      <td>18.638</td> <th>  Cond. No.          </th> <td>    141.</td>\n",
       "</tr>\n",
       "</table><br/><br/>Warnings:<br/>[1] Standard Errors assume that the covariance matrix of the errors is correctly specified."
      ],
      "text/plain": [
       "<class 'statsmodels.iolib.summary.Summary'>\n",
       "\"\"\"\n",
       "                            OLS Regression Results                            \n",
       "==============================================================================\n",
       "Dep. Variable:                      y   R-squared:                       0.193\n",
       "Model:                            OLS   Adj. R-squared:                  0.189\n",
       "Method:                 Least Squares   F-statistic:                     59.42\n",
       "Date:                Thu, 23 Apr 2020   Prob (F-statistic):           3.04e-13\n",
       "Time:                        23:20:10   Log-Likelihood:                 749.52\n",
       "No. Observations:                 251   AIC:                            -1495.\n",
       "Df Residuals:                     249   BIC:                            -1488.\n",
       "Df Model:                           1                                         \n",
       "Covariance Type:            nonrobust                                         \n",
       "==============================================================================\n",
       "                 coef    std err          t      P>|t|      [0.025      0.975]\n",
       "------------------------------------------------------------------------------\n",
       "const          0.0010      0.001      1.333      0.184      -0.000       0.003\n",
       "SPYL           0.8430      0.109      7.708      0.000       0.628       1.058\n",
       "==============================================================================\n",
       "Omnibus:                       75.701   Durbin-Watson:                   1.981\n",
       "Prob(Omnibus):                  0.000   Jarque-Bera (JB):             2562.212\n",
       "Skew:                          -0.336   Prob(JB):                         0.00\n",
       "Kurtosis:                      18.638   Cond. No.                         141.\n",
       "==============================================================================\n",
       "\n",
       "Warnings:\n",
       "[1] Standard Errors assume that the covariance matrix of the errors is correctly specified.\n",
       "\"\"\""
      ]
     },
     "execution_count": 2,
     "metadata": {},
     "output_type": "execute_result"
    },
    {
     "data": {
      "image/png": "[encoded data removed]",
      "text/plain": [
       "<Figure size 432x288 with 1 Axes>"
      ]
     },
     "metadata": {
      "needs_background": "light"
     },
     "output_type": "display_data"
    }
   ],
   "source": [
    "import yfinance as yf\n",
    "\n",
    "start_date = '2014-01-01'\n",
    "end_date = '2014-12-31'\n",
    "\n",
    "# choose stock\n",
    "R = yf.download('AAPL',  start_date, end_date)['Close'].pct_change()[1:]\n",
    "R.name='AAPL'\n",
    "\n",
    "# risk-free proxy\n",
    "R_F = yf.download('BIL',  start_date, end_date)['Close'].pct_change()[1:]\n",
    "R_F.name='BIL'\n",
    "\n",
    "# find it's beta against market\n",
    "M = yf.download('SPY',  start_date, end_date)['Close'].pct_change()[1:]\n",
    "M.name='SPYL'\n",
    "\n",
    "AAPL_results = regression.linear_model.OLS(R-R_F, sm.add_constant(M)).fit()\n",
    "AAPL_beta = AAPL_results.params[1]\n",
    "\n",
    "M.plot()\n",
    "R.plot()\n",
    "R_F.plot()\n",
    "plt.xlabel('Time')\n",
    "plt.ylabel('Daily Percent Return')\n",
    "plt.legend();\n",
    "\n",
    "AAPL_results.summary()"
   ]
  },
  {
   "cell_type": "markdown",
   "metadata": {},
   "source": [
    "然后，我们可以利用计算出的贝塔风险来预测回报。"
   ]
  },
  {
   "cell_type": "code",
   "execution_count": 3,
   "metadata": {},
   "outputs": [
    {
     "name": "stderr",
     "output_type": "stream",
     "text": [
      "D:\\Anaconda3\\lib\\site-packages\\IPython\\core\\events.py:88: MatplotlibDeprecationWarning: Support for uppercase single-letter colors is deprecated since Matplotlib 3.1 and will be removed in 3.3; please use lowercase instead.\n",
      "  func(*args, **kwargs)\n"
     ]
    },
    {
     "data": {
      "image/png": "[encoded data removed]",
      "text/plain": [
       "<Figure size 432x288 with 1 Axes>"
      ]
     },
     "metadata": {
      "needs_background": "light"
     },
     "output_type": "display_data"
    }
   ],
   "source": [
    "predictions = R_F + AAPL_beta*(M - R_F) # CAPM equation\n",
    "\n",
    "predictions.plot()\n",
    "R.plot(color='Y')\n",
    "plt.legend(['Prediction', 'Actual Return'])\n",
    "\n",
    "plt.xlabel('Time')\n",
    "plt.ylabel('Daily Percent Return');"
   ]
  },
  {
   "cell_type": "markdown",
   "metadata": {},
   "source": [
    "## CAPM的假设\n",
    "\n",
    "在CAPM的推导过程中，我们做了两个主要的假设:\n",
    "* 我们假设投资者能够在没有延迟或成本的情况下进行交易，并且每个人都能够以无风险利率借贷资金。\n",
    "* 我们假设所有的投资者都是“均值方差优化者”。这实际上意味着，他们只会要求在给定风险水平下能够获得最高回报的投资组合。这些投资组合都是沿着**有效边界**找到的。\n",
    "\n",
    "以下是四个资产组合的有效边界的程序化推导。"
   ]
  },
  {
   "cell_type": "code",
   "execution_count": 3,
   "metadata": {},
   "outputs": [],
   "source": [
    "from scipy import optimize\n",
    "import cvxopt as opt\n",
    "from cvxopt import blas, solvers"
   ]
  },
  {
   "cell_type": "code",
   "execution_count": 4,
   "metadata": {},
   "outputs": [
    {
     "data": {
      "image/png": "[encoded data removed]",
      "text/plain": [
       "<Figure size 432x288 with 1 Axes>"
      ]
     },
     "metadata": {
      "needs_background": "light"
     },
     "output_type": "display_data"
    }
   ],
   "source": [
    "np.random.seed(123)\n",
    "\n",
    "# Turn off progress printing \n",
    "solvers.options['show_progress'] = False\n",
    "\n",
    "# Number of assets\n",
    "n_assets = 4\n",
    "\n",
    "# Number of observations\n",
    "n_obs = 2000\n",
    "\n",
    "## Generating random returns for our 4 securities\n",
    "return_vec = np.random.randn(n_assets, n_obs)\n",
    "\n",
    "def rand_weights(n):\n",
    "    ''' \n",
    "    Produces n random weights that sum to 1 \n",
    "    '''\n",
    "    k = np.random.rand(n)\n",
    "    return k / sum(k)\n",
    "\n",
    "def random_portfolio(returns):\n",
    "    ''' \n",
    "    Returns the mean and standard deviation of returns for a random portfolio\n",
    "    '''\n",
    "\n",
    "    p = np.asmatrix(np.mean(returns, axis=1))\n",
    "    w = np.asmatrix(rand_weights(returns.shape[0]))\n",
    "    C = np.asmatrix(np.cov(returns))\n",
    "    \n",
    "    mu = w * p.T\n",
    "    sigma = np.sqrt(w * C * w.T)\n",
    "    \n",
    "    # This recursion reduces outliers to keep plots pretty\n",
    "    if sigma > 2:\n",
    "        return random_portfolio(returns)\n",
    "    return mu, sigma\n",
    "\n",
    "def optimal_portfolios(returns):\n",
    "    n = len(returns)\n",
    "    returns = np.asmatrix(returns)\n",
    "    \n",
    "    N = 100000\n",
    "    \n",
    "    # Creating a list of returns to optimize the risk for\n",
    "    mus = [100**(5.0 * t/N - 1.0) for t in range(N)]\n",
    "    \n",
    "    # Convert to cvxopt matrices\n",
    "    S = opt.matrix(np.cov(returns))\n",
    "    pbar = opt.matrix(np.mean(returns, axis=1))\n",
    "    \n",
    "    # Create constraint matrices\n",
    "    G = -opt.matrix(np.eye(n))   # negative n x n identity matrix\n",
    "    h = opt.matrix(0.0, (n ,1))\n",
    "    A = opt.matrix(1.0, (1, n))\n",
    "    b = opt.matrix(1.0)\n",
    "    \n",
    "    # Calculate efficient frontier weights using quadratic programming\n",
    "    portfolios = [solvers.qp(mu*S, -pbar, G, h, A, b)['x'] \n",
    "                  for mu in mus]\n",
    "    \n",
    "    ## Calculate the risk and returns of the frontier\n",
    "    returns = [blas.dot(pbar, x) for x in portfolios]\n",
    "    risks = [np.sqrt(blas.dot(x, S*x)) for x in portfolios]\n",
    "    \n",
    "    return returns, risks\n",
    "\n",
    "n_portfolios = 50000\n",
    "\n",
    "means, stds = np.column_stack([random_portfolio(return_vec) for x in range(n_portfolios)])\n",
    "\n",
    "returns, risks = optimal_portfolios(return_vec)\n",
    "\n",
    "plt.plot(stds, means, 'o', markersize=2, color='navy')\n",
    "plt.xlabel('Risk')\n",
    "plt.ylabel('Return')\n",
    "plt.title('Mean and Standard Deviation of Returns of Randomly Generated Portfolios');\n",
    "\n",
    "plt.plot(risks, returns, '-', markersize=3, color='red');\n",
    "plt.legend(['Portfolios', 'Efficient Frontier']);"
   ]
  },
  {
   "cell_type": "markdown",
   "metadata": {},
   "source": [
    "每个蓝点代表一个不同的投资组合，而掠过边界的红线则是有效边界。有效边界包含在给定风险水平下最佳的所有投资组合。\n",
    "\n",
    "这条线上的最优或最有效的投资组合是通过最大化夏普比率，即超额收益和波动性的比率来找到的。我们用它来确定最佳风险回报权衡的投资组合。\n",
    "\n",
    "代表无风险资产与风险资产组合的不同组合的线称为资本配置线(CAL)。CAL的斜率是夏普比率。为了使夏普比率最大化，我们需要找到最陡的点，它与与有效边界相切的点重合。这就是为什么有效投资组合有时被称为切线投资组合的原因。"
   ]
  },
  {
   "cell_type": "code",
   "execution_count": 6,
   "metadata": {},
   "outputs": [
    {
     "data": {
      "image/png": "[encoded data removed]",
      "text/plain": [
       "<Figure size 432x288 with 1 Axes>"
      ]
     },
     "metadata": {
      "needs_background": "light"
     },
     "output_type": "display_data"
    }
   ],
   "source": [
    "def maximize_sharpe_ratio(return_vec, risk_free_rate):\n",
    "    \"\"\"\n",
    "    Finds the CAPM optimal portfolio from the efficient frontier \n",
    "    by optimizing the Sharpe ratio.\n",
    "    \"\"\"\n",
    "    \n",
    "    def find_sharpe(weights):\n",
    "        \n",
    "        means = [np.mean(asset) for asset in return_vec]\n",
    "        \n",
    "        numerator = sum(weights[m]*means[m] for m in range(len(means))) - risk_free_rate\n",
    "        \n",
    "        weight = np.array(weights)\n",
    "        \n",
    "        denominator = np.sqrt(weights.T.dot(np.corrcoef(return_vec).dot(weights)))\n",
    "        \n",
    "        return numerator/denominator\n",
    "    \n",
    "    guess = np.ones(len(return_vec)) / len(return_vec)\n",
    "    \n",
    "    def objective(weights):\n",
    "        return -find_sharpe(weights)\n",
    "    \n",
    "    # Set up equality constrained\n",
    "    cons = {'type':'eq', 'fun': lambda x: np.sum(np.abs(x)) - 1} \n",
    "\n",
    "    # Set up bounds for individual weights\n",
    "    bnds = [(0, 1)] * len(return_vec)\n",
    "    \n",
    "    results = optimize.minimize(objective, guess,\n",
    "                            constraints=cons, bounds=bnds, \n",
    "                            method='SLSQP', options={'disp': False})\n",
    "    \n",
    "    return results\n",
    "\n",
    "risk_free_rate = np.mean(R_F)\n",
    "\n",
    "results = maximize_sharpe_ratio(return_vec, risk_free_rate)\n",
    "\n",
    "# Applying the optimal weights to each assset to get build portfolio\n",
    "optimal_mean = sum(results.x[i]*np.mean(return_vec[i]) for i in range(len(results.x)))\n",
    "\n",
    "optimal_std = np.sqrt(results.x.T.dot(np.corrcoef(return_vec).dot(results.x)))\n",
    "\n",
    "# Plot of all possible portfolios\n",
    "plt.plot(stds, means, 'o', markersize=2, color='navy')\n",
    "plt.ylabel('Return')\n",
    "plt.xlabel('Risk')\n",
    "\n",
    "# Line from the risk-free rate to the optimal portfolio\n",
    "eqn_of_the_line = lambda x : ( (optimal_mean-risk_free_rate) / optimal_std ) * x + risk_free_rate    \n",
    "\n",
    "xrange = np.linspace(0., 1., num=11)\n",
    "\n",
    "plt.plot(xrange, [eqn_of_the_line(x) for x in xrange], color='red', linestyle='-', linewidth=2)\n",
    "\n",
    "# Our optimal portfolio\n",
    "plt.plot([optimal_std], [optimal_mean], marker='o', markersize=12, color=\"navy\")\n",
    "\n",
    "plt.legend(['Portfolios', 'Capital Allocation Line', 'Optimal Portfolio']);"
   ]
  },
  {
   "cell_type": "markdown",
   "metadata": {},
   "source": [
    "我们可以将单个资产的回报和风险与我们找到的最优投资组合进行比较，从而很容易地展示出多样化的力量。"
   ]
  },
  {
   "cell_type": "code",
   "execution_count": 10,
   "metadata": {},
   "outputs": [
    {
     "name": "stdout",
     "output_type": "stream",
     "text": [
      "Return and Risk of Asset 0 : -0.015587484342459114 , 0.9799254468194947\n",
      "Return and Risk of Asset 1 : 0.03841588871479547 , 0.9856584032986271\n",
      "Return and Risk of Asset 2 : 0.02064673779922475 , 0.9919497385814913\n",
      "Return and Risk of Asset 3 : -0.0044368654765103805 , 1.003119682183738\n",
      "Return and Risk of Optimal Portfolio 0.03211266679689679 0.7311280492268122\n"
     ]
    }
   ],
   "source": [
    "for a in range(len(return_vec)): \n",
    "    print (\"Return and Risk of Asset\", a, \":\", np.mean(return_vec[a]), \",\",np.std(return_vec[a]))   \n",
    "    \n",
    "print(\"Return and Risk of Optimal Portfolio\", optimal_mean, optimal_std) "
   ]
  },
  {
   "cell_type": "markdown",
   "metadata": {},
   "source": [
    "# 资本市场线是通过市场组合计算的"
   ]
  },
  {
   "cell_type": "markdown",
   "metadata": {},
   "source": [
    "我们的最优投资组合有一个体面的高回报和更少的风险，比任何单个资产，如预期。理论上，所有投资者都应该要求这种最佳的、相切的投资组合。如果我们累积所有投资者的投资组合，我们最终得到的是市场投资组合，因为所有的股票都必须有人持有。这意味着切线投资组合是市场投资组合，也就是说需求必须等于供给。\n",
    "\n",
    "当无风险资产被添加到投资组合中时，资本资产线就变成了资本市场线(CML)。根据CAPM，任何位于CML右侧的股票或投资组合都将包含可分散风险，因此是无效的。\n",
    "\n",
    "每种证券的beta与预期收益的映射结果在证券市场线中。证券回报与CAPM预测的预期回报之间的差异称为alpha。"
   ]
  },
  {
   "cell_type": "code",
   "execution_count": 7,
   "metadata": {},
   "outputs": [
    {
     "name": "stdout",
     "output_type": "stream",
     "text": [
      "[*********************100%***********************]  3 of 3 completed\n",
      "[*********************100%***********************]  3 of 3 completed\n"
     ]
    },
    {
     "data": {
      "image/png": "[encoded data removed]",
      "text/plain": [
       "<Figure size 432x288 with 1 Axes>"
      ]
     },
     "metadata": {
      "needs_background": "light"
     },
     "output_type": "display_data"
    }
   ],
   "source": [
    "import yfinance as yf\n",
    "\n",
    "risk_free_rate = np.mean(R_F)\n",
    "\n",
    "# We have two coordinates that we use to map the SML: (0, risk-free rate) and (1, market return)\n",
    "\n",
    "eqn_of_the_line = lambda x : ( (np.mean(M)-risk_free_rate) / 1.0) * x + risk_free_rate        \n",
    "xrange = np.linspace(0., 2.5, num=2)\n",
    "plt.plot(xrange, [eqn_of_the_line(x) for x in xrange], color='red', linestyle='-', linewidth=2)\n",
    "\n",
    "plt.plot([1], [np.mean(M)], marker='o', color='navy', markersize=10)\n",
    "plt.annotate('Market', xy=(1, np.mean(M)), xytext=(0.9, np.mean(M)+0.00004))\n",
    "\n",
    "# Next, we will compare to see whether stocks in more cyclical industries have higher betas\n",
    "# Of course, a more thorough analysis is required to rigorously answer this question\n",
    "\n",
    "# Non-Cyclical Industry Stocks\n",
    "non_cyclical = ['PG', 'DUK', 'PFE']\n",
    "non_cyclical_returns = yf.download(\n",
    "    non_cyclical,\n",
    "    start_date,\n",
    "    end_date\n",
    ")['Close'].pct_change()[1:]\n",
    "non_cyclical_returns.columns =non_cyclical\n",
    "\n",
    "non_cyclical_betas = [\n",
    "    regression.linear_model.OLS(\n",
    "        non_cyclical_returns[asset],\n",
    "        sm.add_constant(M)\n",
    "    ).fit().params[1]\n",
    "     for asset in non_cyclical\n",
    "]\n",
    "\n",
    "for asset, beta in zip(non_cyclical, non_cyclical_betas):\n",
    "    plt.plot([beta], [np.mean(non_cyclical_returns[asset])], marker='o', color='g', markersize=10)\n",
    "    plt.annotate(\n",
    "        asset,\n",
    "        xy=(beta, np.mean(non_cyclical_returns[asset])),\n",
    "        xytext=(beta + 0.015, np.mean(non_cyclical_returns[asset]) + 0.000025)\n",
    "    )\n",
    "\n",
    "# Cyclical Industry Stocks\n",
    "cyclical = ['RIO', 'SPG', 'ING']\n",
    "cyclical_returns = yf.download(\n",
    "    non_cyclical,\n",
    "    start_date,\n",
    "    end_date\n",
    ")['Close'].pct_change()[1:]\n",
    "cyclical_returns.columns = cyclical\n",
    "\n",
    "cyclical_betas = [\n",
    "    regression.linear_model.OLS(\n",
    "        cyclical_returns[asset],\n",
    "        sm.add_constant(M)\n",
    "    ).fit().params[1]\n",
    "     for asset in cyclical\n",
    "]\n",
    "\n",
    "for asset, beta in zip(cyclical, cyclical_betas):\n",
    "    plt.plot([beta], [np.mean(cyclical_returns[asset])], marker='o', color='y', markersize=10)\n",
    "    plt.annotate(\n",
    "        asset,\n",
    "        xy=(beta, np.mean(cyclical_returns[asset])),\n",
    "        xytext=(beta + 0.015, np.mean(cyclical_returns[asset]) + 0.000025)\n",
    "    )\n",
    "\n",
    "# drawing the alpha, which is the difference between expected return and the actual return\n",
    "plt.plot(\n",
    "    [cyclical_betas[2], cyclical_betas[2]],\n",
    "    [np.mean(cyclical_returns.iloc[:, 2]), eqn_of_the_line(cyclical_betas[2])],\n",
    "    color='grey'\n",
    ")\n",
    "plt.annotate(\n",
    "    'Alpha',\n",
    "    xy=(\n",
    "        cyclical_betas[2] + 0.05,\n",
    "        (eqn_of_the_line(cyclical_betas[2])-np.mean(cyclical_returns.iloc[:,2]))/2+np.mean(cyclical_returns.iloc[:,2])\n",
    "    ),\n",
    "    xytext=(\n",
    "        cyclical_betas[2] + 0.05,\n",
    "        (eqn_of_the_line(cyclical_betas[2])-np.mean(cyclical_returns.iloc[:,2]))/2+np.mean(cyclical_returns.iloc[:,2])\n",
    "    )\n",
    ")\n",
    "\n",
    "plt.xlabel(\"Beta\")\n",
    "plt.ylabel(\"Return\")\n",
    "\n",
    "plt.legend(['Security Market Line']);"
   ]
  },
  {
   "cell_type": "markdown",
   "metadata": {},
   "source": [
    "有关CAPM的更多信息，请查看[wikipedia页面](https://en.wikipedia.org/wiki/Capital_asset_pricing_model)."
   ]
  },
  {
   "cell_type": "markdown",
   "metadata": {},
   "source": [
    "# 套利定价理论\n",
    "\n",
    "CAPM虽然得到了广泛的应用和研究，但也存在许多不足之处。由于有严格的、限制性的假设，它在经验测试中并不适用。套利定价理论(Arbitrage Pricing Theory, APT)旨在推广CAPM模型，因为资产可能暴露于市场风险以外的风险类别，投资者关心的可能不仅仅是均值和方差。\n",
    "\n",
    "APT是一种主要的资产定价理论，它依赖于使用线性因子模型来表达收益:\n",
    "\n",
    "$$R_i = a_i + b_{i1} F_1 + b_{i2} F_2 + \\ldots + b_{iK} F_K + \\epsilon_i$$\n",
    "\n",
    "因素是完全由某些特性决定的返回流。例如，资本资产定价机制只有一个因素，市场回报。如我们已按上述方法建立回报率模型，预期回报率应以下列形式计算:\n",
    "\n",
    "$$ E(R_i) = R_F + b_{i1} \\lambda_1 + b_{i2} \\lambda_2 + \\ldots + b_{iK} \\lambda_K $$\n",
    "\n",
    "其中$R_F$是无风险利率，$\\lambda_j$是因子$j$的风险溢价—收益超过无风险利率。这种溢价的产生是因为投资者需要更高的回报来补偿他们所承担的更高的风险。\n",
    "\n",
    "我们将用Fama-Macbeth回归计算我们的因素的风险溢价。但是，有多种方法可以计算每个$\\lambda_j$!"
   ]
  },
  {
   "cell_type": "markdown",
   "metadata": {
    "collapsed": true
   },
   "source": [
    "## 套利\n",
    "\n",
    "既然我们已经有了一个合理的计算预期收益的一般方法，我们就可以更专业地讨论套利了。在我们的宇宙中有很多很多的证券。如果我们使用不同的方法来计算$\\{\\lambda_i\\}$，我们的结果会是一致的吗?如果我们的结果不一致，就会有*套利机会*(在预期中)，即在不产生风险的情况下获得利润，也没有资金的净投资。在这种情况下，我们的意思是有一个无风险的操作，有*预期*正回报，不需要净投资。它发生在回报预期不一致的时候，也就是风险在不同证券之间的定价不一致的时候。\n",
    "\n",
    "假设有一种资产下一年的预期收益率为0.2，市场的$\\beta$为1.2，而市场的预期收益率为0.1,1年期债券的无风险利率为0.05。那么APT模型告诉我们，资产的预期收益率应该是\n",
    "\n",
    "$$ R_F + \\beta \\lambda = 0.05 + 1.2 (0.1 - 0.05) = 0.11$$\n",
    "\n",
    "这与资产回报率为0.2的预测不一致。因此，如果我们买入100份资产，做空120份市场，并买入20份债券，我们将不会投入任何净资金，也不会面临任何系统性风险(我们是市场中性的)，但我们预计年底将赚得0.2(100)- 0.1(120)+ 0.05(20)= 9美元。\n",
    "\n",
    "APT认为，在价格发生变化、套利机会消失之前，这些机会将被利用。也就是说，它假定存在有足够耐心和资本的套利者。这为在证券定价中使用经验因素模型提供了一个理由:如果模型不一致，就会有套利机会，因此价格会调整。"
   ]
  },
  {
   "cell_type": "markdown",
   "metadata": {},
   "source": [
    "## 双向的\n",
    "\n",
    "准确地知道$E(R_i)$是非常困难的，但是这个模型告诉我们，如果市场没有套利的话，预期收益应该是多少。这为基于因子模型排序系统的策略奠定了基础。如果您有一个资产预期回报的模型，那么您可以根据这些资产的预期表现对它们进行排序，并使用这些信息进行交易。这一排名机制的创建，是[多空股票战略](https://www.quantopian.com/lectures/long-short-equity)的标志。"
   ]
  },
  {
   "cell_type": "markdown",
   "metadata": {},
   "source": [
    "## 检验套利定价理论\n",
    "\n",
    "APT的大多数经验测试分两个步骤进行:估计单个因素的贝塔系数，然后将其与实际价格进行比较，看看预测结果如何。\n",
    "\n",
    "在这里，我们将使用基于各种微观经济指标构建的多空股票策略的回报流作为我们的因素。然后，我们将使用Fama-Macbeth回归方法来估计我们的风险溢价。"
   ]
  },
  {
   "cell_type": "code",
   "execution_count": null,
   "metadata": {},
   "outputs": [],
   "source": [
    "from quantopian.pipeline import Pipeline\n",
    "from quantopian.pipeline.data import Fundamentals\n",
    "from quantopian.pipeline.factors import Returns, Latest\n",
    "from quantopian.pipeline.filters import Q1500US\n",
    "from quantopian.research import run_pipeline\n",
    "from quantopian.pipeline.classifiers.fundamentals import Sector\n",
    "import itertools"
   ]
  },
  {
   "cell_type": "markdown",
   "metadata": {},
   "source": [
    "现在我们使用Pipeline来获取所有的数据。"
   ]
  },
  {
   "cell_type": "code",
   "execution_count": null,
   "metadata": {
    "scrolled": false
   },
   "outputs": [],
   "source": [
    "def make_pipeline():\n",
    "    \n",
    "    pipe = Pipeline()\n",
    "\n",
    "    # Add our factors to the pipeline\n",
    "    purchase_of_biz = Latest([Fundamentals.purchase_of_business])\n",
    "    pipe.add(purchase_of_biz, 'purchase_of_business')\n",
    "    \n",
    "    RD = Latest([Fundamentals.research_and_development])\n",
    "    pipe.add(RD, 'RD')\n",
    "    \n",
    "    operating_cash_flow = Latest([Fundamentals.operating_cash_flow])\n",
    "    pipe.add(operating_cash_flow, 'operating_cash_flow')\n",
    "    \n",
    "    # Create factor rankings and add to pipeline\n",
    "    purchase_of_biz_rank = purchase_of_biz.rank()\n",
    "    RD_rank = RD.rank()\n",
    "    operating_cash_flow_rank = operating_cash_flow.rank()\n",
    "\n",
    "    pipe.add(purchase_of_biz_rank, 'purchase_of_biz_rank')\n",
    "    pipe.add(RD_rank, 'RD_rank')\n",
    "    pipe.add(operating_cash_flow_rank, 'operating_cash_flow_rank')\n",
    "    \n",
    "    most_biz_bought = purchase_of_biz_rank.top(1000)\n",
    "    least_biz_bought = purchase_of_biz_rank.bottom(1000)\n",
    "    \n",
    "    most_RD = RD_rank.top(1000)\n",
    "    least_RD = RD_rank.bottom(1000)\n",
    "    \n",
    "    most_cash = operating_cash_flow_rank.top(1000)\n",
    "    least_cash = operating_cash_flow_rank.bottom(1000)\n",
    "    \n",
    "    pipe.add(most_biz_bought, 'most_biz_bought')\n",
    "    pipe.add(least_biz_bought, 'least_biz_bought')\n",
    "    \n",
    "    pipe.add(most_RD, 'most_RD')\n",
    "    pipe.add(least_RD, 'least_RD')\n",
    "    \n",
    "    pipe.add(most_cash, 'most_cash')\n",
    "    pipe.add(least_cash, 'least_cash')\n",
    "    \n",
    "    # We also get daily returns\n",
    "    returns = Returns(window_length=2)\n",
    "    \n",
    "    # and sector types\n",
    "    sectors = Sector()\n",
    "\n",
    "    pipe.add(returns, \"Returns\")\n",
    "    \n",
    "    # We will focus on technology stocks in the Q1500\n",
    "    pipe.set_screen(\n",
    "        (Q1500US() & sectors.eq(311)) & \n",
    "        most_biz_bought | least_biz_bought | \n",
    "        most_RD | least_RD |\n",
    "        most_cash | least_cash\n",
    "    )\n",
    "    \n",
    "    return pipe\n",
    "\n",
    "pipe = make_pipeline()\n",
    "results = run_pipeline(pipe, start_date, end_date)\n",
    "\n",
    "results.head()"
   ]
  },
  {
   "cell_type": "markdown",
   "metadata": {},
   "source": [
    "为了得到我们的要素回报流，我们根据他们对企业的购买、他们的研发支出和他们的现金流对股票进行排名。然后，对于每个指标，我们做多最高百分位数的资产，做空最低百分位数的资产。"
   ]
  },
  {
   "cell_type": "code",
   "execution_count": null,
   "metadata": {},
   "outputs": [],
   "source": [
    "most_biz_bought = results[results.most_biz_bought]['Returns'].groupby(level=0).mean()\n",
    "least_biz_bought = results[results.least_biz_bought]['Returns'].groupby(level=0).mean()\n",
    "\n",
    "most_RD = results[results.most_RD]['Returns'].groupby(level=0).mean()\n",
    "least_RD = results[results.least_RD]['Returns'].groupby(level=0).mean()\n",
    "\n",
    "most_cash = results[results.most_cash]['Returns'].groupby(level=0).mean()\n",
    "least_cash = results[results.least_cash]['Returns'].groupby(level=0).mean()\n",
    "\n",
    "# Calculating our factor return streams\n",
    "biz_purchase_portfolio = most_biz_bought - least_biz_bought\n",
    "RD_portfolio = most_RD - least_RD\n",
    "cash_flow_portfolio = most_cash - least_cash"
   ]
  },
  {
   "cell_type": "markdown",
   "metadata": {},
   "source": [
    "最后，我们将把所有的东西放在一起进行Fama-Macbeth回归。这需要两个步骤。\n",
    "\n",
    "首先，对于每一种资产，我们都要回归它在每个要素回报流中的回报:\n",
    "\n",
    "$$R_{1, t} = \\alpha_1 + \\beta_{1, F_1}F_{1, t} + \\beta_{1, F_2}F_{2, t} + \\dots + \\beta_{1, F_m}F_{m, t} + \\epsilon_{1, t} \\\\\n",
    "R_{2, t} = \\alpha_2 + \\beta_{2, F_1}F_{1, t} + \\beta_{2, F_2}F_{2, t} + \\dots + \\beta_{2, F_m}F_{m, t} + \\epsilon_{2, t} \\\\\n",
    "\\vdots \\\\\n",
    "R_{n, t} = \\alpha_n + \\beta_{n, F_1}F_{1, t} + \\beta_{n, F_2}F_{2, t} + \\dots + \\beta_{n, F_m}F_{m, t} + \\epsilon_{n, t}$$\n",
    "\n",
    "其次，我们从第一步中得到贝塔估计值，并将其作为外生变量来估计每种资产的平均回报率。这一步是计算我们的风险溢价，$\\{\\gamma_K\\}$。\n",
    "\n",
    "$$E(R_i) = \\gamma_0 + \\gamma_1 \\hat{\\beta}_{i, F_1} + \\gamma_2 \\hat{\\beta}_{i, F_2} + \\dots + \\gamma_m \\hat{\\beta}_{i, F_m} + \\epsilon_i$$"
   ]
  },
  {
   "cell_type": "code",
   "execution_count": null,
   "metadata": {
    "scrolled": false
   },
   "outputs": [],
   "source": [
    "# putting all of our data from pipeline into a DataFrame for convenience\n",
    "# we'll have to first do some data manipulating since our factor return streams are date specific,\n",
    "# but our asset returns are both date and asset specific\n",
    "\n",
    "data = results[['Returns']].set_index(results.index)\n",
    "asset_list_sizes = [group[1].size for group in data.groupby(level=0)]\n",
    "\n",
    "purchase_of_biz_column = [\n",
    "    [biz_purchase_portfolio.loc[group[0]]] * size\n",
    "     for group, size in zip(data.groupby(level=0), asset_list_sizes)\n",
    "]\n",
    "data['Purchase of Business'] = list(itertools.chain(*purchase_of_biz_column))\n",
    "\n",
    "RD_column = [\n",
    "    [RD_portfolio.loc[group[0]]] * size\n",
    "     for group, size in zip(data.groupby(level=0), asset_list_sizes)\n",
    "]\n",
    "data['RD'] = list(itertools.chain(*RD_column))\n",
    "\n",
    "cash_flow_column = [\n",
    "    [cash_flow_portfolio.loc[group[0]]] * size\n",
    "     for group, size in zip(data.groupby(level=0), asset_list_sizes)\n",
    "]\n",
    "data['Operating Cash Flow'] = list(itertools.chain(*cash_flow_column))\n",
    "\n",
    "data = sm.add_constant(data.dropna())\n",
    "\n",
    "# Our list of assets from pipeline\n",
    "assets = data.index.levels[1].unique()\n",
    "\n",
    "X = [data.xs(asset, level=1)['Returns'] for asset in assets] \n",
    "Y = [\n",
    "    data.xs(asset, level=1)[['Purchase of Business', 'RD', 'Operating Cash Flow', 'const']]\n",
    "     for asset in assets\n",
    "]\n",
    "\n",
    "# First regression step: estimating the betas\n",
    "reg_results = [\n",
    "    regression.linear_model.OLS(x-risk_free_rate, y).fit().params\n",
    "     for x, y in zip(X, Y) if not(x.empty or y.empty)\n",
    "]\n",
    "indices = [asset for x, y, asset in zip(X, Y, assets) if not(x.empty or y.empty)]\n",
    "\n",
    "betas = pd.DataFrame(reg_results, index=indices)\n",
    "betas = sm.add_constant(betas.drop('const', axis=1))\n",
    "\n",
    "R = data['Returns'].mean(axis=0, level=1)\n",
    "\n",
    "# Second regression step: estimating the risk premia\n",
    "final_results = regression.linear_model.OLS(R - risk_free_rate, betas).fit()\n",
    "\n",
    "final_results.summary()"
   ]
  },
  {
   "cell_type": "markdown",
   "metadata": {
    "collapsed": true
   },
   "source": [
    "重要的是，我们不能只使用表面价值的模型估算。浏览一下相关的统计数据，就会对我们估计的模型的有效性有深刻的认识。例如，请注意，尽管我们的个人因素很重要，但我们有一个非常低的$R^2$。这可能表明，我们的因素和资产回报率之间确实存在联系，但仍有许多无法解释的噪音!\n",
    "\n",
    "想要更深入地了解选择因素，请查看[因素分析讲座](https://www.quantopian.com/lectures/factor-analysis)!"
   ]
  },
  {
   "cell_type": "code",
   "execution_count": null,
   "metadata": {},
   "outputs": [],
   "source": [
    "# smoke test for multicollinearity\n",
    "print( data[['Purchase of Business', 'RD', 'Operating Cash Flow']].corr())"
   ]
  },
  {
   "cell_type": "markdown",
   "metadata": {},
   "source": [
    "现在我们已经估计了我们的风险溢价，我们可以将这些与我们的贝塔估计相结合，从我们最初的回归估计资产回报。"
   ]
  },
  {
   "cell_type": "code",
   "execution_count": null,
   "metadata": {},
   "outputs": [],
   "source": [
    "# this is our actual model!\n",
    "expected_return = risk_free_rate \\\n",
    "    + betas['Purchase of Business']*final_results.params[1] \\\n",
    "    + betas['RD']*final_results.params[2] \\\n",
    "    + betas['Operating Cash Flow']*final_results.params[3]\n",
    "\n",
    "year_of_returns = get_pricing(\n",
    "    expected_return.index,\n",
    "    start_date,\n",
    "    end_date,\n",
    "    fields='close_price'\n",
    ").pct_change()[1:]\n",
    "\n",
    "plt.plot(year_of_returns[expected_return.index[1]], color='purple')\n",
    "plt.plot(pd.DataFrame({'Expected Return': expected_return.iloc[0]}, index=year_of_returns.index), color='red')\n",
    "plt.legend(['AAPL Returns', 'APT Prediction']);"
   ]
  },
  {
   "cell_type": "code",
   "execution_count": null,
   "metadata": {
    "scrolled": false
   },
   "outputs": [],
   "source": [
    "# Compare AAPL prediction of CAPM vs. our APT model\n",
    "M_annual_return = get_pricing('SPY', start_date=start_date, end_date=end_date, fields='price').pct_change()[1:]\n",
    "\n",
    "# We'll take the market beta we calculated from the beginning of the lecture\n",
    "CAPM_AAPL_prediction = risk_free_rate + AAPL_beta*(M_annual_return.mean() - risk_free_rate)\n",
    "\n",
    "# Let's take a closer look\n",
    "year_of_returns = year_of_returns[:25]\n",
    "\n",
    "plt.plot(year_of_returns[expected_return.index[1]], color='purple')\n",
    "plt.plot(pd.DataFrame({'Expected Return': expected_return.iloc[0]}, index=year_of_returns.index), color='red')\n",
    "plt.plot(pd.DataFrame({'Expected Return': year_of_returns.mean()[0]}, index=year_of_returns.index), color='navy')\n",
    "plt.plot(pd.DataFrame({'Expected Return': CAPM_AAPL_prediction}, index=year_of_returns.index), color='green')\n",
    "plt.legend(['AAPL Returns', 'APT Prediction', 'AAPL Average Returns', 'CAPM Prediction']);\\"
   ]
  },
  {
   "cell_type": "markdown",
   "metadata": {},
   "source": [
    "最后，作为APT和CAPM的粗略比较，我们将查看使用每个模型作为排名方案构建的多空策略的回报。"
   ]
  },
  {
   "cell_type": "code",
   "execution_count": 11,
   "metadata": {},
   "outputs": [
    {
     "ename": "SyntaxError",
     "evalue": "Missing parentheses in call to 'print'. Did you mean print(\"Returns after a year: APT versus CAPM\")? (<ipython-input-11-a3db8c1de117>, line 52)",
     "output_type": "error",
     "traceback": [
      "\u001b[1;36m  File \u001b[1;32m\"<ipython-input-11-a3db8c1de117>\"\u001b[1;36m, line \u001b[1;32m52\u001b[0m\n\u001b[1;33m    print \"Returns after a year: APT versus CAPM\"\u001b[0m\n\u001b[1;37m                                                ^\u001b[0m\n\u001b[1;31mSyntaxError\u001b[0m\u001b[1;31m:\u001b[0m Missing parentheses in call to 'print'. Did you mean print(\"Returns after a year: APT versus CAPM\")?\n"
     ]
    }
   ],
   "source": [
    "market_betas = [\n",
    "    regression.linear_model.OLS(x[1:], sm.add_constant(M_annual_return)).fit().params[1]\n",
    "     for x in X if (x[1:].size == M_annual_return.size)\n",
    "]\n",
    "indices = [asset for x, asset in zip(X, assets) if (x[1:].size == M_annual_return.size)]\n",
    "\n",
    "market_return = pd.DataFrame({'Market': M_annual_return.mean()}, index = indices)\n",
    "\n",
    "CAPM_predictions = risk_free_rate + market_betas*(market_return['Market'] - risk_free_rate)\n",
    "CAPM_predictions.sort_values(inplace=True, ascending=False)\n",
    "\n",
    "CAPM_portfolio = [CAPM_predictions.head(5).index, CAPM_predictions.tail(5).index]\n",
    "CAPM_long = get_pricing(\n",
    "    CAPM_portfolio[0],\n",
    "    start_date=start_date,\n",
    "    end_date=end_date,\n",
    "    fields='price'\n",
    ").pct_change()[1:].mean(axis=1)\n",
    "CAPM_short = get_pricing(\n",
    "    CAPM_portfolio[1],\n",
    "    start_date=start_date,\n",
    "    end_date=end_date,\n",
    "    fields='price'\n",
    ").pct_change()[1:].mean(axis=1)\n",
    "\n",
    "CAPM_returns = CAPM_long - CAPM_short\n",
    "\n",
    "expected_return.sort_values(inplace=True, ascending=False)\n",
    "\n",
    "APT_portfolio = [expected_return.head(5).index, expected_return.tail(5).index]\n",
    "APT_long = get_pricing(\n",
    "    APT_portfolio[0],\n",
    "    start_date=start_date,\n",
    "    end_date=end_date,\n",
    "    fields='price'\n",
    ").pct_change()[1:].mean(axis=1)\n",
    "APT_short = get_pricing(\n",
    "    APT_portfolio[1],\n",
    "    start_date=start_date,\n",
    "    end_date=end_date,\n",
    "    fields='price'\n",
    ").pct_change()[1:].mean(axis=1)\n",
    "\n",
    "APT_returns = APT_long - APT_short\n",
    "\n",
    "plt.plot(CAPM_returns)\n",
    "plt.plot(APT_returns)\n",
    "plt.plot(pd.DataFrame({'Mean Return': CAPM_returns.mean()}, index=CAPM_returns.index))\n",
    "plt.plot(pd.DataFrame({'Mean Return': APT_returns.mean()}, index=APT_returns.index))\n",
    "plt.legend(['CAPM Portfolio', 'APT Portfolio', 'CAPM Mean', 'APT Mean'])\n",
    "\n",
    "print(\"Returns after a year: APT versus CAPM\") \n",
    "print(((APT_returns[-1]/APT_returns[0]) - 1) - ((CAPM_returns[-1]/CAPM_returns[0])-1)) "
   ]
  }
 ],
 "metadata": {
  "kernelspec": {
   "display_name": "Python 3",
   "language": "python",
   "name": "python3"
  },
  "language_info": {
   "codemirror_mode": {
    "name": "ipython",
    "version": 3
   },
   "file_extension": ".py",
   "mimetype": "text/x-python",
   "name": "python",
   "nbconvert_exporter": "python",
   "pygments_lexer": "ipython3",
   "version": "3.7.7"
  }
 },
 "nbformat": 4,
 "nbformat_minor": 2
}
