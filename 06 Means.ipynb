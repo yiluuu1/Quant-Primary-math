{
 "cells": [
  {
   "cell_type": "markdown",
   "metadata": {},
   "source": [
    "# 集中趋势测量\n",
    "By Evgenia \"Jenny\" Nitishinskaya, Maxwell Margenot, and Delaney Mackenzie.\n",
    "\n",
    "Part of the Quantopian Lecture Series:\n",
    "\n",
    "* [www.quantopian.com/lectures](https://www.quantopian.com/lectures)\n",
    "* [github.com/quantopian/research_public](https://github.com/quantopian/research_public)\n",
    "\n",
    "\n",
    "---\n",
    "\n",
    "在这节课中，我们将讨论如何使用单个数字来总结一组数据。目标是捕获关于数据分布的信息。\n",
    "\n",
    "# 算术平均值\n",
    "\n",
    "算术平均数经常被用来总结数字数据，通常被认为是“平均数”的意思。它的定义是观测值之和除以观测值的个数:\n",
    "$$\\mu = \\frac{\\sum_{i=1}^N X_i}{N}$$\n",
    "\n",
    "其中$X_1, X_2, \\ldots , X_N$是我们的观察值。"
   ]
  },
  {
   "cell_type": "code",
   "execution_count": 1,
   "metadata": {},
   "outputs": [
    {
     "name": "stdout",
     "output_type": "stream",
     "text": [
      "Mean of x1: 29 / 8 = 3.625\n",
      "Mean of x2: 129 / 9 = 14.333333333333334\n"
     ]
    }
   ],
   "source": [
    "# Two useful statistical libraries\n",
    "import scipy.stats as stats\n",
    "import numpy as np\n",
    "\n",
    "# We'll use these two data sets as examples\n",
    "x1 = [1, 2, 2, 3, 4, 5, 5, 7]\n",
    "x2 = x1 + [100]\n",
    "\n",
    "print('Mean of x1:', sum(x1), '/', len(x1), '=', np.mean(x1)) \n",
    "print( 'Mean of x2:', sum(x2), '/', len(x2), '=', np.mean(x2))"
   ]
  },
  {
   "cell_type": "markdown",
   "metadata": {},
   "source": [
    "我们还可以定义一个<i>加权的</i>算术平均值，这对于明确指定每个观测值应该被计数的次数很有用。例如，在计算一个投资组合的平均价值时，说你70%的股票是X型股票要比列出你持有的所有股票更方便。\n",
    "\n",
    "加权算术平均值定义为\n",
    "$$\\sum_{i=1}^n w_i X_i $$\n",
    "\n",
    "其中 $\\sum_{i=1}^n w_i = 1$.在通常的算术平均值中，对于所有的$i$我们有$w_i = 1/n$。"
   ]
  },
  {
   "cell_type": "markdown",
   "metadata": {
    "collapsed": true
   },
   "source": [
    "# 中位数\n",
    "\n",
    "一组数据的中位数是按递增或递减顺序排序时出现在列表中间的数字。当我们有一个奇数$n$的数据点时，这就是位置$(n+1)/2$的值。当我们有偶数个数据点时，列表分成两半，中间没有项目;因此，我们将中位数定义为位置$n/2$和$(n+2)/2$的值的平均值。\n",
    "\n",
    "与算术平均值相比，中位数受数据极值的影响较小。它告诉我们将数据集一分为二的值，而不是其他值的大小。"
   ]
  },
  {
   "cell_type": "code",
   "execution_count": 2,
   "metadata": {},
   "outputs": [
    {
     "name": "stdout",
     "output_type": "stream",
     "text": [
      "Median of x1: 3.5\n",
      "Median of x2: 4.0\n"
     ]
    }
   ],
   "source": [
    "print('Median of x1:', np.median(x1)) \n",
    "print('Median of x2:', np.median(x2)) "
   ]
  },
  {
   "cell_type": "markdown",
   "metadata": {},
   "source": [
    "# 众数\n",
    "\n",
    "众数是数据集中最常出现的值。它可以应用于非数值数据，不像平均值和中位数。它有用的一种情况是数据的可能值是独立的。例如，在一个加权骰子的结果中，出现6并不意味着它可能出现5;所以知道数据集的众数是6比知道它的平均值是4.5更有用."
   ]
  },
  {
   "cell_type": "code",
   "execution_count": 6,
   "metadata": {},
   "outputs": [
    {
     "name": "stdout",
     "output_type": "stream",
     "text": [
      "One mode of x1: ModeResult(mode=array([2]), count=array([2]))\n",
      "All of the modes of x1: [2, 5]\n"
     ]
    }
   ],
   "source": [
    "# Scipy has a built-in mode function, but it will return exactly one value even if two values occur the same number of times, or if no value appears more than once\n",
    "print ('One mode of x1:', stats.mode(x1)[0][0])\n",
    "\n",
    "# So we will write our own\n",
    "def mode(l):\n",
    "    # Count the number of times each element appears in the list\n",
    "    counts = {}\n",
    "    for e in l:\n",
    "        if e in counts:\n",
    "            counts[e] += 1\n",
    "        else:\n",
    "            counts[e] = 1\n",
    "            \n",
    "    # Return the elements that appear the most times\n",
    "    maxcount = 0\n",
    "    modes = {}\n",
    "    for (key, value) in counts.items():\n",
    "        if value > maxcount:\n",
    "            maxcount = value\n",
    "            modes = {key}\n",
    "        elif value == maxcount:\n",
    "            modes.add(key)\n",
    "            \n",
    "    if maxcount > 1 or len(l) == 1:\n",
    "        return list(modes)\n",
    "    return 'No mode'\n",
    "    \n",
    "print ('All of the modes of x1:', mode(x1))"
   ]
  },
  {
   "cell_type": "markdown",
   "metadata": {},
   "source": [
    "对于可以接受许多不同值的数据(如返回数据)，可能不会有任何值出现超过一次。在这种情况下，我们可以存储值，就像我们在构建直方图时所做的那样，然后找到数据集的众数，其中每个值都用其存储的名称替换。也就是说，我们找出哪些bin元素最常落入其中。"
   ]
  },
  {
   "cell_type": "code",
   "execution_count": 7,
   "metadata": {},
   "outputs": [
    {
     "name": "stdout",
     "output_type": "stream",
     "text": [
      "Mode of returns: No mode\n",
      "Mode of bins: [(-0.0012499981123169877, 0.0011117022955209332)]\n"
     ]
    }
   ],
   "source": [
    "import pandas_datareader.data as data\n",
    "# Get return data for an asset and compute the mode of the data set\n",
    "start = '2014-01-01'\n",
    "end = '2015-01-01'\n",
    "pricing = data.get_data_yahoo('SPY',start, end)['Close']\n",
    "returns = pricing.pct_change()[1:]\n",
    "print ('Mode of returns:', mode(returns))\n",
    "\n",
    "# Since all of the returns are distinct, we use a frequency distribution to get an alternative mode.\n",
    "# np.histogram returns the frequency distribution over the bins as well as the endpoints of the bins\n",
    "hist, bins = np.histogram(returns, 20) # Break data up into 20 bins\n",
    "maxfreq = max(hist)\n",
    "# Find all of the bins that are hit with frequency maxfreq, then print the intervals corresponding to them\n",
    "print ('Mode of bins:', [(bins[i], bins[i+1]) for i, j in enumerate(hist) if j == maxfreq])"
   ]
  },
  {
   "cell_type": "markdown",
   "metadata": {},
   "source": [
    "# 几何平均数\n",
    "\n",
    "算术平均数用加法，几何平均数用乘法:\n",
    "$$ G = \\sqrt[n]{X_1X_1\\ldots X_n} $$\n",
    "\n",
    "对于观测值$X_i \\geq 0$。我们也可以用对数把它改写成算术平均数:\n",
    "$$ \\ln G = \\frac{\\sum_{i=1}^n \\ln X_i}{n} $$\n",
    "\n",
    "几何平均值总是小于或等于算术平均值(当处理非负观测值时)，只有当所有观测值相同时才相等."
   ]
  },
  {
   "cell_type": "code",
   "execution_count": 8,
   "metadata": {},
   "outputs": [
    {
     "name": "stdout",
     "output_type": "stream",
     "text": [
      "Geometric mean of x1: 3.0941040249774403\n",
      "Geometric mean of x2: 4.552534587620071\n"
     ]
    }
   ],
   "source": [
    "# Use scipy's gmean function to compute the geometric mean\n",
    "print('Geometric mean of x1:', stats.gmean(x1) )\n",
    "print('Geometric mean of x2:', stats.gmean(x2)) "
   ]
  },
  {
   "cell_type": "markdown",
   "metadata": {
    "collapsed": true
   },
   "source": [
    "如果我们想计算几何平均值当我们有负的观测值时呢?这个问题在资产回报的情况下很容易解决，我们的值总是至少为 $-1$。我们可以在回报率$R_t$上加1，得到$1 + R_t$，它是连续两个时间段内资产价格的比率(而不是价格之间变化的百分比，$R_t$)。这个量总是非负的。我们可以计算几何平均回报，\n",
    "$$ R_G = \\sqrt[T]{(1 + R_1)\\ldots (1 + R_T)} - 1$$"
   ]
  },
  {
   "cell_type": "code",
   "execution_count": 9,
   "metadata": {},
   "outputs": [
    {
     "name": "stdout",
     "output_type": "stream",
     "text": [
      "Geometric mean of returns: 0.00042454196714802883\n"
     ]
    }
   ],
   "source": [
    "# Add 1 to every value in the returns array and then compute R_G\n",
    "ratios = returns + np.ones(len(returns))\n",
    "R_G = stats.gmean(ratios) - 1\n",
    "print( 'Geometric mean of returns:', R_G)"
   ]
  },
  {
   "cell_type": "markdown",
   "metadata": {},
   "source": [
    "几何平均是这样定义的，如果整个时间段的收益率是常数，并且等于$R_G$，那么证券的最终价格将与收益率 $R_1, \\ldots, R_T$相同."
   ]
  },
  {
   "cell_type": "code",
   "execution_count": 10,
   "metadata": {},
   "outputs": [
    {
     "name": "stdout",
     "output_type": "stream",
     "text": [
      "Initial price: 184.69000244140625\n",
      "Final price: 205.5399932861328\n",
      "Final price as computed with R_G: 205.53999328613105\n"
     ]
    }
   ],
   "source": [
    "T = len(returns)\n",
    "init_price = pricing[0]\n",
    "final_price = pricing[T]\n",
    "print('Initial price:', init_price) \n",
    "print('Final price:', final_price) \n",
    "print('Final price as computed with R_G:', init_price*(1 + R_G)**T) "
   ]
  },
  {
   "cell_type": "markdown",
   "metadata": {},
   "source": [
    "# 调和平均数\n",
    "\n",
    "调和平均数比其他平均数使用得少。它被定义为\n",
    "$$ H = \\frac{n}{\\sum_{i=1}^n \\frac{1}{X_i}} $$\n",
    "\n",
    "和几何平均值一样，我们可以把调和平均值改写成算术平均值。调和平均数的倒数是观测倒数的算术平均数:\n",
    "$$ \\frac{1}{H} = \\frac{\\sum_{i=1}^n \\frac{1}{X_i}}{n} $$\n",
    "\n",
    "非负数$X_i$的调和平均数最多是几何平均数(最多是算术平均数)，只有当所有的观察值相等时它们才相等。"
   ]
  },
  {
   "cell_type": "code",
   "execution_count": 11,
   "metadata": {},
   "outputs": [
    {
     "name": "stdout",
     "output_type": "stream",
     "text": [
      "Harmonic mean of x1: 2.5590251332825593\n",
      "Harmonic mean of x2: 2.869723656240511\n"
     ]
    }
   ],
   "source": [
    "print('Harmonic mean of x1:', stats.hmean(x1)) \n",
    "print('Harmonic mean of x2:', stats.hmean(x2)) "
   ]
  },
  {
   "cell_type": "markdown",
   "metadata": {},
   "source": [
    "当数据可以自然地用比率表示时，就可以使用调和平均数。例如，在平均成本投资策略中，固定数额的资金会定期用于购买股票。股价越高，遵循这种策略的投资者购买的股票就越少。他们购买股票的平均(算术平均数)是股票价格的调和平均数。"
   ]
  },
  {
   "cell_type": "markdown",
   "metadata": {
    "collapsed": true
   },
   "source": [
    "# 点估算可能具有欺骗性\n",
    "\n",
    "本质上均值隐藏了大量信息，因为它们将整个分布压缩成一个数字。因此，经常使用一个数字的“点估计”或度量，可能会在您的数据中隐藏大问题。你应该小心地确保你在汇总数据时没有丢失关键信息，并且你应该很少(如果有的话)在使用平均值时不同时参考一个传播度量。\n",
    "\n",
    "## 潜在的分布可能是错误的\n",
    "\n",
    "即使您使用正确的平均值和传播度量，如果您的底层分布不是您所认为的那样，那么它们也没有任何意义。例如，使用标准偏差来度量事件的频率通常会假定为正态。除非必须，否则不要假设分布，在这种情况下，您应该严格检查数据是否符合您假设的分布。"
   ]
  },
  {
   "cell_type": "markdown",
   "metadata": {},
   "source": [
    "## 参考\n",
    "* \"Quantitative Investment Analysis\", by DeFusco, McLeavey, Pinto, and Runkle"
   ]
  }
 ],
 "metadata": {
  "kernelspec": {
   "display_name": "Python 3",
   "language": "python",
   "name": "python3"
  },
  "language_info": {
   "codemirror_mode": {
    "name": "ipython",
    "version": 3
   },
   "file_extension": ".py",
   "mimetype": "text/x-python",
   "name": "python",
   "nbconvert_exporter": "python",
   "pygments_lexer": "ipython3",
   "version": "3.7.4"
  }
 },
 "nbformat": 4,
 "nbformat_minor": 1
}
