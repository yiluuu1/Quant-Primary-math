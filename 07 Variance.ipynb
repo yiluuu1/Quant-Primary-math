{
 "cells": [
  {
   "cell_type": "markdown",
   "metadata": {},
   "source": [
    "# 离中趋势测量\n",
    "By Evgenia \"Jenny\" Nitishinskaya, Maxwell Margenot, and Delaney Mackenzie.\n",
    "\n",
    "Part of the Quantopian Lecture Series:\n",
    "\n",
    "* [www.quantopian.com/lectures](https://www.quantopian.com/lectures)\n",
    "* [github.com/quantopian/research_public](https://github.com/quantopian/research_public)\n",
    "\n",
    "\n",
    "---\n",
    "\n",
    "离散度度量一组数据的分布情况。这在金融领域尤为重要，因为衡量风险的主要方式之一，就是看历史上回报率的分布情况。如果回报率围绕一个中心价值非常紧张，那么我们就没有那么多理由担心。如果回报到处都是，那是有风险的。\n",
    "\n",
    "低离散度的数据主要集中在平均值附近，而高离散度的数据则表示有许多非常大和非常小的值。\n",
    "\n",
    "让我们生成一个随机整数数组。"
   ]
  },
  {
   "cell_type": "code",
   "execution_count": 1,
   "metadata": {},
   "outputs": [],
   "source": [
    "# Import libraries\n",
    "import numpy as np\n",
    "\n",
    "np.random.seed(121)"
   ]
  },
  {
   "cell_type": "code",
   "execution_count": 2,
   "metadata": {},
   "outputs": [
    {
     "name": "stdout",
     "output_type": "stream",
     "text": [
      "X: [ 3  8 34 39 46 52 52 52 54 57 60 65 66 75 83 85 88 94 95 96]\n",
      "Mean of X: 60.2\n"
     ]
    }
   ],
   "source": [
    "# Generate 20 random integers < 100\n",
    "X = np.random.randint(100, size=20)\n",
    "\n",
    "# Sort them\n",
    "X = np.sort(X)\n",
    "print ('X: %s' %(X))\n",
    "\n",
    "mu = np.mean(X)\n",
    "print('Mean of X:', mu) "
   ]
  },
  {
   "cell_type": "markdown",
   "metadata": {},
   "source": [
    "# 极差\n",
    "\n",
    "极差就是数据集中最大值和最小值之间的差值。毫不奇怪，它对异常值非常敏感。我们将使用`numpy`的peak to peak (ptp)函数。\n",
    "\n"
   ]
  },
  {
   "cell_type": "code",
   "execution_count": 3,
   "metadata": {},
   "outputs": [
    {
     "name": "stdout",
     "output_type": "stream",
     "text": [
      "Range of X: 93\n"
     ]
    }
   ],
   "source": [
    "print ('Range of X: %s' %(np.ptp(X)))"
   ]
  },
  {
   "cell_type": "markdown",
   "metadata": {},
   "source": [
    "# 平均绝对偏差(MAD)\n",
    "\n",
    "平均绝对偏差是观测距离算术平均值的平均值。我们用标准差的绝对值，也就是均值以上5个，均值以下5个，都贡献了5，否则标准差总和为0。\n",
    "\n",
    "$$ MAD = \\frac{\\sum_{i=1}^n |X_i - \\mu|}{n} $$\n",
    "\n",
    "其中$n$是观测值的个数，$\\mu$是它们的均值。"
   ]
  },
  {
   "cell_type": "code",
   "execution_count": 4,
   "metadata": {},
   "outputs": [
    {
     "name": "stdout",
     "output_type": "stream",
     "text": [
      "Mean absolute deviation of X: 20.520000000000003\n"
     ]
    }
   ],
   "source": [
    "abs_dispersion = [np.abs(mu - x) for x in X]\n",
    "MAD = np.sum(abs_dispersion)/len(abs_dispersion)\n",
    "print( 'Mean absolute deviation of X:', MAD)"
   ]
  },
  {
   "cell_type": "markdown",
   "metadata": {},
   "source": [
    "# 方差和标准差\n",
    "\n",
    "方差$\\sigma^2$定义为均值周围平方偏差的平均值:\n",
    "$$ \\sigma^2 = \\frac{\\sum_{i=1}^n (X_i - \\mu)^2}{n} $$\n",
    "\n",
    "这有时比平均绝对偏差更方便，因为绝对值是不可微的，而平方是光滑的，而且一些优化算法依赖于可微性。\n",
    "\n",
    "标准差被定义为方差的平方根，$\\sigma$，它是两者中比较容易解释的，因为它与观测值的单位相同。"
   ]
  },
  {
   "cell_type": "code",
   "execution_count": 5,
   "metadata": {},
   "outputs": [
    {
     "name": "stdout",
     "output_type": "stream",
     "text": [
      "Variance of X: 670.16\n",
      "Standard deviation of X: 25.8874486962\n"
     ]
    }
   ],
   "source": [
    "print ('Variance of X:', np.var(X))\n",
    "print ('Standard deviation of X:', np.std(X))"
   ]
  },
  {
   "cell_type": "markdown",
   "metadata": {},
   "source": [
    "一种解释标准差的方法是参照契比雪夫不等式。这告诉我们，对于任意$k> $1，观测值位于均值的$k$个标准差范围内的样本占比至少为$1 - 1/k^2$。\n",
    "\n",
    "我们来验证一下，对于我们的数据集，这是正确的。"
   ]
  },
  {
   "cell_type": "code",
   "execution_count": 5,
   "metadata": {},
   "outputs": [
    {
     "name": "stdout",
     "output_type": "stream",
     "text": [
      "Observations within 1.25 stds of mean: [34, 39, 46, 52, 52, 52, 54, 57, 60, 65, 66, 75, 83, 85, 88]\n",
      "Confirming that 0.75 > 0.36\n"
     ]
    }
   ],
   "source": [
    "k = 1.25\n",
    "dist = k*np.std(X)\n",
    "l = [x for x in X if abs(x - mu) <= dist]\n",
    "print ('Observations within', k, 'stds of mean:', l)\n",
    "print ('Confirming that', float(len(l))/len(X), '>', 1 - 1/k**2)"
   ]
  },
  {
   "cell_type": "markdown",
   "metadata": {},
   "source": [
    "在这种情况下，契比雪夫不等式给出的界似乎相当宽松。这个界限很少是严格的，但它是有用的，因为它适用于所有的数据集和分布。"
   ]
  },
  {
   "cell_type": "markdown",
   "metadata": {},
   "source": [
    "# 半方差和半标准差\n",
    "\n",
    "虽然方差和标准差告诉我们一个量的波动性有多大，但它们不能区分向上的偏差和向下的偏差。通常情况下，比如资产回报率，我们更担心向下的偏差。这是通过半方差和半标准差来解决的，它们只计算低于平均值的观测值。半方差定义为\n",
    "$$ \\frac{\\sum_{X_i < \\mu} (X_i - \\mu)^2}{n_<} $$\n",
    "其中$n_<$是小于均值的观测值的个数。半标准差是半方差的平方根。"
   ]
  },
  {
   "cell_type": "code",
   "execution_count": 7,
   "metadata": {},
   "outputs": [
    {
     "name": "stdout",
     "output_type": "stream",
     "text": [
      "Semivariance of X: 689.5127272727273\n",
      "Semideviation of X: 26.258574357202395\n"
     ]
    }
   ],
   "source": [
    "# Because there is no built-in semideviation, we'll compute it ourselves\n",
    "lows = [e for e in X if e <= mu]\n",
    "\n",
    "semivar = np.sum( (lows - mu) ** 2 ) / len(lows)\n",
    "\n",
    "print('Semivariance of X:', semivar) \n",
    "print('Semideviation of X:', np.sqrt(semivar)) "
   ]
  },
  {
   "cell_type": "markdown",
   "metadata": {},
   "source": [
    "一个相关的概念是目标半方差(和目标半标准差)，其中我们平均到目标值以下的值的距离:\n",
    "$$ \\frac{\\sum_{X_i < B} (X_i - B)^2}{n_{<B}} $$\n"
   ]
  },
  {
   "cell_type": "code",
   "execution_count": 8,
   "metadata": {},
   "outputs": [
    {
     "name": "stdout",
     "output_type": "stream",
     "text": [
      "Target semivariance of X: 188.5\n",
      "Target semideviation of X: 13.729530217745982\n"
     ]
    }
   ],
   "source": [
    "B = 19\n",
    "lows_B = [e for e in X if e <= B]\n",
    "semivar_B = sum(map(lambda x: (x - B)**2,lows_B))/len(lows_B)\n",
    "\n",
    "print ('Target semivariance of X:', semivar_B)\n",
    "print ('Target semideviation of X:', np.sqrt(semivar_B))"
   ]
  },
  {
   "cell_type": "markdown",
   "metadata": {},
   "source": [
    "# 这些只是估计\n",
    "\n",
    "所有这些计算都会给出样本统计，也就是数据样本的标准差。这是否反映了当前真实的总体标准差并不总是很明显，需要更多的努力来确定。这在金融领域尤其成问题，因为所有数据都是时间序列，均值和方差可能随时间变化。这里有许多不同的技巧和微妙之处，其中一些在[quantlecture Series](https://www.quantopian.com/lectures)的其他讲座中有介绍。\n",
    "\n",
    "一般来说，不要假设因为你的样本是正确的，它将继续保持正确。"
   ]
  },
  {
   "cell_type": "markdown",
   "metadata": {},
   "source": [
    "## 参考\n",
    "* \"Quantitative Investment Analysis\", by DeFusco, McLeavey, Pinto, and Runkle"
   ]
  }
 ],
 "metadata": {
  "kernelspec": {
   "display_name": "Python 3",
   "language": "python",
   "name": "python3"
  },
  "language_info": {
   "codemirror_mode": {
    "name": "ipython",
    "version": 3
   },
   "file_extension": ".py",
   "mimetype": "text/x-python",
   "name": "python",
   "nbconvert_exporter": "python",
   "pygments_lexer": "ipython3",
   "version": "3.7.7"
  }
 },
 "nbformat": 4,
 "nbformat_minor": 1
}
